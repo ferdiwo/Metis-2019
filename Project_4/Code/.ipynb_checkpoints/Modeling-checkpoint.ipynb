{
 "cells": [
  {
   "cell_type": "code",
   "execution_count": null,
   "metadata": {
    "ExecuteTime": {
     "end_time": "2019-09-19T14:27:47.005671Z",
     "start_time": "2019-09-19T14:27:46.978129Z"
    }
   },
   "outputs": [],
   "source": [
    "import pandas as pd\n",
    "import numpy as np\n",
    "import matplotlib.pyplot as plt\n",
    "import pickle as pkl\n",
    "import seaborn as sns\n",
    "from collections import defaultdict\n",
    "from sklearn.linear_model import LogisticRegression\n",
    "import xgboost as xgb\n",
    "import lightgbm as lgb\n",
    "from sklearn.ensemble import RandomForestClassifier\n",
    "from sklearn.neighbors import KNeighborsClassifier\n",
    "from sklearn.metrics import roc_curve, roc_auc_score, classification_report\n",
    "from sklearn.metrics import r2_score, accuracy_score, f1_score, confusion_matrix, fbeta_score, confusion_matrix"
   ]
  },
  {
   "cell_type": "code",
   "execution_count": null,
   "metadata": {
    "ExecuteTime": {
     "end_time": "2019-09-19T14:16:54.407028Z",
     "start_time": "2019-09-19T14:16:54.391268Z"
    }
   },
   "outputs": [],
   "source": [
    "#Load data\n",
    "df_tweets = pkl.load(open('/Users/ferdinandwohlenberg/Desktop/Projects/Project_4/Data/tweets.pkl', 'rb'))\n",
    "df_bitcoin = pkl.load(open(\"/Users/ferdinandwohlenberg/Desktop/Projects/Project_4/Data/bitcoins.pkl\", 'rb'))\n",
    "df_googletrends = pkl.load(open(\"/Users/ferdinandwohlenberg/Desktop/Projects/Project_4/Data/Google_trends/google_trends.pkl\", 'rb'))"
   ]
  },
  {
   "cell_type": "code",
   "execution_count": null,
   "metadata": {
    "ExecuteTime": {
     "end_time": "2019-08-22T19:01:22.840500Z",
     "start_time": "2019-08-22T19:01:22.822691Z"
    }
   },
   "outputs": [],
   "source": [
    "df_bitcoin.head()"
   ]
  },
  {
   "cell_type": "code",
   "execution_count": null,
   "metadata": {
    "ExecuteTime": {
     "end_time": "2019-08-22T19:02:59.982451Z",
     "start_time": "2019-08-22T19:02:59.863036Z"
    }
   },
   "outputs": [],
   "source": [
    "df_bitcoin1 = df_bitcoin.copy()\n",
    "df_bitcoin1['Day'] = df_bitcoin1['Date'].apply(lambda x: pd.Timestamp(year =x.year, month = x.month, day = x.day, hour = 0, minute = 0, second = 0))\n",
    "df_bitcoin1.drop_duplicates(subset = 'Day', inplace = True)"
   ]
  },
  {
   "cell_type": "code",
   "execution_count": null,
   "metadata": {
    "ExecuteTime": {
     "end_time": "2019-08-22T19:03:01.551653Z",
     "start_time": "2019-08-22T19:03:01.542381Z"
    }
   },
   "outputs": [],
   "source": [
    "df_svi = df_googletrends[['Day', 'SVI']]\n",
    "df_svi = df_svi.merge(df_bitcoin1[['Day', 'Close']], on = 'Day', how = 'left')"
   ]
  },
  {
   "cell_type": "code",
   "execution_count": null,
   "metadata": {
    "ExecuteTime": {
     "end_time": "2019-08-22T19:03:17.751692Z",
     "start_time": "2019-08-22T19:03:17.739524Z"
    }
   },
   "outputs": [],
   "source": [
    "df_svi.to_csv('SVI_Price.csv')"
   ]
  },
  {
   "cell_type": "code",
   "execution_count": null,
   "metadata": {
    "ExecuteTime": {
     "end_time": "2019-08-22T17:45:21.912375Z",
     "start_time": "2019-08-22T17:45:21.807617Z"
    }
   },
   "outputs": [],
   "source": [
    "df_bitcoin[['Date', 'Close']].to_csv('Bitcoin_prices.csv')"
   ]
  },
  {
   "cell_type": "code",
   "execution_count": null,
   "metadata": {
    "ExecuteTime": {
     "end_time": "2019-08-22T17:45:21.917812Z",
     "start_time": "2019-08-22T17:45:21.913870Z"
    }
   },
   "outputs": [],
   "source": [
    "df_tweets.columns"
   ]
  },
  {
   "cell_type": "code",
   "execution_count": null,
   "metadata": {
    "ExecuteTime": {
     "end_time": "2019-08-22T17:46:56.652530Z",
     "start_time": "2019-08-22T17:46:56.645342Z"
    }
   },
   "outputs": [],
   "source": [
    "pos_neg_df = df_tweets[['Day','pos_neg_ratio_month']]"
   ]
  },
  {
   "cell_type": "code",
   "execution_count": null,
   "metadata": {
    "ExecuteTime": {
     "end_time": "2019-08-22T17:46:57.210733Z",
     "start_time": "2019-08-22T17:46:57.196104Z"
    }
   },
   "outputs": [],
   "source": [
    "pos_neg_df = pos_neg_df.drop_duplicates(subset = 'Day')"
   ]
  },
  {
   "cell_type": "code",
   "execution_count": null,
   "metadata": {
    "ExecuteTime": {
     "end_time": "2019-08-22T17:48:45.502881Z",
     "start_time": "2019-08-22T17:48:45.491071Z"
    }
   },
   "outputs": [],
   "source": [
    "topics_df['Day'] = topics_df.index"
   ]
  },
  {
   "cell_type": "code",
   "execution_count": null,
   "metadata": {
    "ExecuteTime": {
     "end_time": "2019-08-22T17:45:23.342961Z",
     "start_time": "2019-08-22T17:45:23.339240Z"
    }
   },
   "outputs": [],
   "source": [
    "pos_neg_df.to_csv('Pos_neg_ratio_month.csv')"
   ]
  },
  {
   "cell_type": "code",
   "execution_count": null,
   "metadata": {
    "ExecuteTime": {
     "end_time": "2019-08-22T17:46:39.309589Z",
     "start_time": "2019-08-22T17:46:39.236724Z"
    }
   },
   "outputs": [],
   "source": [
    "#Save Data for \"Topic over Time\" graphs as csv \n",
    "topicovertime = df_tweets.groupby(['Day', 'Topic'])['tweet-id'].count().reset_index()\n",
    "topics_df = pd.DataFrame(columns = topicovertime['Topic'].unique(), index = df_tweets['Day'].unique())\n",
    "for topic in topics_df.columns:\n",
    "    value=topicovertime[topicovertime.Topic == topic]['tweet-id'].values\n",
    "    topics_df[topic] = value\n",
    "    topics_df.reset_index()\n",
    "\n",
    "#topics_df.to_csv('Topic_time_graph.csv')"
   ]
  },
  {
   "cell_type": "code",
   "execution_count": null,
   "metadata": {
    "ExecuteTime": {
     "end_time": "2019-08-22T17:48:49.300961Z",
     "start_time": "2019-08-22T17:48:49.295417Z"
    }
   },
   "outputs": [],
   "source": [
    "df_csv = topics_df.merge(pos_neg_df, on = 'Day', how = 'left', )"
   ]
  },
  {
   "cell_type": "code",
   "execution_count": null,
   "metadata": {
    "ExecuteTime": {
     "end_time": "2019-08-22T17:49:39.059685Z",
     "start_time": "2019-08-22T17:49:39.054613Z"
    }
   },
   "outputs": [],
   "source": [
    "df_csv.to_csv('topic_time_graph.csv')"
   ]
  },
  {
   "cell_type": "code",
   "execution_count": null,
   "metadata": {
    "ExecuteTime": {
     "end_time": "2019-08-22T17:45:23.443259Z",
     "start_time": "2019-08-22T17:45:23.437838Z"
    }
   },
   "outputs": [],
   "source": [
    "topicovertime.head()"
   ]
  },
  {
   "cell_type": "code",
   "execution_count": null,
   "metadata": {
    "ExecuteTime": {
     "end_time": "2019-08-22T17:45:23.456953Z",
     "start_time": "2019-08-22T17:45:23.444390Z"
    }
   },
   "outputs": [],
   "source": [
    "topicovertime[topicovertime.Topic == 'Blockchain News']"
   ]
  },
  {
   "cell_type": "code",
   "execution_count": null,
   "metadata": {
    "ExecuteTime": {
     "end_time": "2019-08-22T17:45:23.535588Z",
     "start_time": "2019-08-22T17:45:23.458199Z"
    }
   },
   "outputs": [],
   "source": [
    "df_tweets_model=df_tweets[['hours','Topic', 'sentiment_compound',\n",
    "       'Blockchain_News_proba', 'Cryptocurrency_proba', 'Market_News_proba',\n",
    "       'sentiment', 'topic_activity_hour',\n",
    "       'sentiment_topic_count_hour', 'topic_activity_day',\n",
    "       'sentiment_topic_count_day', 'Negative_this_Day', 'Neutral_this_Day',\n",
    "       'Positive_this_Day', 'Negative_this_Month', 'Neutral_this_Month',\n",
    "       'Positive_this_Month', 'pos_neg_ratio_day', 'pos_neg_ratio_month',\n",
    "       'Negative_this_hours', 'Neutral_this_hours', 'Positive_this_hours',\n",
    "       'pos_neg_ratio_hour']]"
   ]
  },
  {
   "cell_type": "code",
   "execution_count": null,
   "metadata": {
    "ExecuteTime": {
     "end_time": "2019-08-22T17:45:23.635497Z",
     "start_time": "2019-08-22T17:45:23.536932Z"
    }
   },
   "outputs": [],
   "source": [
    "df_tweets_model = df_tweets_model.rename(columns = {'hours':'Date'})"
   ]
  },
  {
   "cell_type": "code",
   "execution_count": null,
   "metadata": {
    "ExecuteTime": {
     "end_time": "2019-08-22T17:45:23.641837Z",
     "start_time": "2019-08-22T17:45:23.636900Z"
    }
   },
   "outputs": [],
   "source": [
    "df_tweets_model.Date.head()"
   ]
  },
  {
   "cell_type": "code",
   "execution_count": null,
   "metadata": {
    "ExecuteTime": {
     "end_time": "2019-08-22T17:45:23.669868Z",
     "start_time": "2019-08-22T17:45:23.643082Z"
    }
   },
   "outputs": [],
   "source": [
    "df_tweets_model.drop_duplicates(subset = 'Date', inplace = True)"
   ]
  },
  {
   "cell_type": "code",
   "execution_count": null,
   "metadata": {
    "ExecuteTime": {
     "end_time": "2019-08-22T17:45:23.687972Z",
     "start_time": "2019-08-22T17:45:23.671057Z"
    }
   },
   "outputs": [],
   "source": [
    "df_tweets_model.head()"
   ]
  },
  {
   "cell_type": "code",
   "execution_count": null,
   "metadata": {
    "ExecuteTime": {
     "end_time": "2019-08-22T17:45:23.699880Z",
     "start_time": "2019-08-22T17:45:23.689081Z"
    }
   },
   "outputs": [],
   "source": [
    "df_model = df_tweets_model.merge(df_bitcoin, on = 'Date', how = 'left')"
   ]
  },
  {
   "cell_type": "code",
   "execution_count": null,
   "metadata": {
    "ExecuteTime": {
     "end_time": "2019-08-22T17:45:23.704029Z",
     "start_time": "2019-08-22T17:45:23.701005Z"
    }
   },
   "outputs": [],
   "source": [
    "df_model.columns"
   ]
  },
  {
   "cell_type": "code",
   "execution_count": null,
   "metadata": {
    "ExecuteTime": {
     "end_time": "2019-08-22T17:45:23.708331Z",
     "start_time": "2019-08-22T17:45:23.705405Z"
    }
   },
   "outputs": [],
   "source": [
    "df_model.insert(1, 'Day', df_model['Date'])"
   ]
  },
  {
   "cell_type": "code",
   "execution_count": null,
   "metadata": {
    "ExecuteTime": {
     "end_time": "2019-08-22T17:45:23.727299Z",
     "start_time": "2019-08-22T17:45:23.709664Z"
    }
   },
   "outputs": [],
   "source": [
    "df_model['Day'] = df_model['Date'].apply(lambda x: pd.Timestamp(year =x.year, month = x.month, day = x.day, hour = 0, minute = 0, second = 0))\n",
    "df_googletrends['Day'] = df_googletrends['date'].apply(lambda x: pd.Timestamp(year =x.year, month = x.month, day = x.day, hour = 0, minute = 0, second = 0))"
   ]
  },
  {
   "cell_type": "code",
   "execution_count": null,
   "metadata": {
    "ExecuteTime": {
     "end_time": "2019-08-22T17:45:23.736172Z",
     "start_time": "2019-08-22T17:45:23.728595Z"
    }
   },
   "outputs": [],
   "source": [
    "df_model1= df_model.merge(df_googletrends, on = 'Day', how = 'left')"
   ]
  },
  {
   "cell_type": "code",
   "execution_count": null,
   "metadata": {
    "ExecuteTime": {
     "end_time": "2019-08-22T17:45:23.743631Z",
     "start_time": "2019-08-22T17:45:23.737487Z"
    }
   },
   "outputs": [],
   "source": [
    "df_model1.drop('date', axis = 1, inplace = True)\n",
    "pkl.dump(df_model1, open('/Users/ferdinandwohlenberg/Desktop/Projects/Project_4/Data/Model,pkl', 'wb'))"
   ]
  },
  {
   "cell_type": "code",
   "execution_count": null,
   "metadata": {
    "ExecuteTime": {
     "end_time": "2019-08-22T17:45:23.748477Z",
     "start_time": "2019-08-22T17:45:23.744908Z"
    }
   },
   "outputs": [],
   "source": [
    "df = pkl.load(open('/Users/ferdinandwohlenberg/Desktop/Projects/Project_4/Data/Model,pkl', 'rb'))"
   ]
  },
  {
   "cell_type": "code",
   "execution_count": null,
   "metadata": {
    "ExecuteTime": {
     "end_time": "2019-08-22T17:45:23.760329Z",
     "start_time": "2019-08-22T17:45:23.750821Z"
    }
   },
   "outputs": [],
   "source": [
    "df[['Day','Close']].to_csv('/Users/ferdinandwohlenberg/Desktop/Projects/Project_4/Data/Prices_dates.csv')"
   ]
  },
  {
   "cell_type": "code",
   "execution_count": null,
   "metadata": {
    "ExecuteTime": {
     "end_time": "2019-08-22T17:45:23.778129Z",
     "start_time": "2019-08-22T17:45:23.761689Z"
    }
   },
   "outputs": [],
   "source": [
    "sorted(df.Date.unique())"
   ]
  },
  {
   "cell_type": "code",
   "execution_count": null,
   "metadata": {
    "ExecuteTime": {
     "end_time": "2019-08-22T17:45:23.788796Z",
     "start_time": "2019-08-22T17:45:23.779393Z"
    }
   },
   "outputs": [],
   "source": [
    "#Split into train test set\n",
    "def splitdata(df,target, test_size = 0.15, seed = 89, plot = False , deletefuture = False, classify = False, dummy = True, profit = False):\n",
    "    \"\"\"\n",
    "    Split data into train and validation set according to day.\n",
    "\n",
    "    Parameter df: Dataframe to be split\n",
    "    Precondtion: df is a Pandas DataFrame\n",
    "\n",
    "    Parameter test_size: Size of test data set\n",
    "    Precondition: 0 ≤ test_size ≤ 1\n",
    "\n",
    "    Parameter seed: random number for random state generator\n",
    "    Precondition: type(seed) == int\n",
    "\n",
    "    Parameter identifier: Dataset feature according to which the dataset will be split\n",
    "    Precondition: identifier is a valid DataFrame index\n",
    "    \"\"\"\n",
    "    days = df['Day']\n",
    "    target_values = df[target]\n",
    "    if classify:\n",
    "        #Convert prices into 1(price increased) and 0 (price decreased)\n",
    "        df[target] = df[target].apply(lambda x: convertprices(x))\n",
    "    if deletefuture:\n",
    "        #Delete all future prices from the datafram\n",
    "        df = df.drop(labels = ['Date', 'Day', 'price_1hour_ahead', 'price_2days_ahead','price_1week_ahead',\n",
    "       'price_2weeks_ahead', 'price_1month_ahead'] , axis = 1)\n",
    "    if dummy and deletefuture:\n",
    "        #Create dummies\n",
    "        df = pd.get_dummies(df,drop_first = True)\n",
    "        df['Day'] = days\n",
    "    elif dummy:\n",
    "        df = pd.get_dummies(df, drop_first = True)\n",
    "        df['Day'] = days\n",
    "    #rs = np.random.RandomState(seed)\n",
    "    members_unique = df.Day.unique()\n",
    "    members_unique = np.sort(members_unique)\n",
    "    length = len(members_unique)\n",
    "    cutoff = int(length * (1-test_size))\n",
    "    test_members= members_unique[cutoff:]\n",
    "    #test_members = rs.choice(members_unique, size = int(members_unique.shape[0]*\\\n",
    "    #test_size), replace = False)\n",
    "    if profit:\n",
    "        df_profit = df.copy()\n",
    "        df_profit['target'] = target_values\n",
    "        df_profit_tr = df_profit[~df_profit['Day'].isin(test_members)]\n",
    "        df_profit_te = df_profit[df_profit['Day'].isin(test_members)]\n",
    "    df_tr = df[~df['Day'].isin(test_members)]\n",
    "    df_te = df[df['Day'].isin(test_members)]\n",
    "    if classify:\n",
    "        df_tr.drop(labels = 'Day', inplace = True, axis = 1)\n",
    "        df_te.drop(labels = 'Day', inplace = True, axis = 1)\n",
    "    \n",
    "    if plot:\n",
    "        sns.pairplot(df_tr)\n",
    "\n",
    "    y_tr, y_te = df_tr[target], df_te[target]\n",
    "    X_tr = df_tr.drop(columns = target, axis = 1)\n",
    "    X_te = df_te.drop(columns = target, axis = 1)\n",
    "\n",
    "    if profit:\n",
    "        return X_tr, X_te, y_tr, y_te, df_profit_tr, df_profit_te\n",
    "\n",
    "    return X_tr, X_te, y_tr, y_te"
   ]
  },
  {
   "cell_type": "code",
   "execution_count": null,
   "metadata": {
    "ExecuteTime": {
     "end_time": "2019-08-22T17:45:23.793563Z",
     "start_time": "2019-08-22T17:45:23.790062Z"
    }
   },
   "outputs": [],
   "source": [
    "def convertprices(price):\n",
    "    #Convert prices into 1(price increased) and 0 (price decreased)\n",
    "    if price >= 0:\n",
    "        return 1\n",
    "    if price < 0:\n",
    "        return 0"
   ]
  },
  {
   "cell_type": "code",
   "execution_count": null,
   "metadata": {
    "ExecuteTime": {
     "end_time": "2019-08-22T19:27:42.799275Z",
     "start_time": "2019-08-22T19:27:42.777891Z"
    }
   },
   "outputs": [],
   "source": [
    "X_tr, X_te, y_tr, y_te = splitdata(df, 'price_1day_ahead', dummy = True)"
   ]
  },
  {
   "cell_type": "code",
   "execution_count": null,
   "metadata": {
    "ExecuteTime": {
     "end_time": "2019-08-22T19:27:50.002023Z",
     "start_time": "2019-08-22T19:27:49.985665Z"
    }
   },
   "outputs": [],
   "source": [
    "X_tr.head()"
   ]
  },
  {
   "cell_type": "code",
   "execution_count": null,
   "metadata": {
    "ExecuteTime": {
     "end_time": "2019-08-22T01:43:20.019409Z",
     "start_time": "2019-08-22T01:43:20.014191Z"
    }
   },
   "outputs": [],
   "source": [
    "y_tr[y_tr < 0]"
   ]
  },
  {
   "cell_type": "code",
   "execution_count": null,
   "metadata": {
    "ExecuteTime": {
     "end_time": "2019-08-22T01:43:20.024508Z",
     "start_time": "2019-08-22T01:43:20.020562Z"
    }
   },
   "outputs": [],
   "source": [
    "X_tr.Day.unique()"
   ]
  },
  {
   "cell_type": "code",
   "execution_count": null,
   "metadata": {
    "ExecuteTime": {
     "end_time": "2019-08-21T19:27:50.573301Z",
     "start_time": "2019-08-21T19:27:50.566927Z"
    }
   },
   "outputs": [],
   "source": [
    "#Dump final test set\n",
    "pkl.dump(X_te, open('/Users/ferdinandwohlenberg/Desktop/Projects/Project_4/Data/X_test', 'wb'))\n",
    "pkl.dump(y_te, open('/Users/ferdinandwohlenberg/Desktop/Projects/Project_4/Data/y_test', 'wb'))"
   ]
  },
  {
   "cell_type": "code",
   "execution_count": null,
   "metadata": {
    "ExecuteTime": {
     "end_time": "2019-08-21T18:11:47.312454Z",
     "start_time": "2019-08-21T18:11:47.307256Z"
    }
   },
   "outputs": [],
   "source": [
    "X_te['price_1month_ahead'] = y_te\n",
    "testdf = X_te.copy()\n",
    "y_test = y_te.copy()"
   ]
  },
  {
   "cell_type": "code",
   "execution_count": null,
   "metadata": {
    "ExecuteTime": {
     "end_time": "2019-08-22T01:20:43.781601Z",
     "start_time": "2019-08-22T01:20:43.411571Z"
    }
   },
   "outputs": [],
   "source": [
    "X_tr['price_1month_ahead'] = y_tr\n",
    "X_tr, X_te, y_tr, y_te, df_profit_tr, df_profit_te = splitdata(df, 'price_1month_ahead', deletefuture = True, classify = True, profit = True, dummy = True)"
   ]
  },
  {
   "cell_type": "code",
   "execution_count": null,
   "metadata": {},
   "outputs": [],
   "source": [
    "#Try model with regression using the actual price differences to predict the exact price increase\n",
    "#Convert all columns to 1 and 0"
   ]
  },
  {
   "cell_type": "markdown",
   "metadata": {},
   "source": [
    "### Classification Model"
   ]
  },
  {
   "cell_type": "code",
   "execution_count": null,
   "metadata": {
    "ExecuteTime": {
     "end_time": "2019-08-21T17:26:59.520466Z",
     "start_time": "2019-08-21T17:26:59.516172Z"
    }
   },
   "outputs": [],
   "source": [
    "#Fit KNN regression to training data and find optimal no. of neighbors\n",
    "def fitknn(X_train, X_test, y_train ,y_test):\n",
    "    d_knn = defaultdict(int)\n",
    "    score = 0\n",
    "    k = 0\n",
    "    for i in range(1,50):\n",
    "        neigh = KNeighborsClassifier(n_neighbors=i)\n",
    "        neigh.fit(X_train, y_train)\n",
    "        preds = neigh.predict(X_test)\n",
    "        accuracy = accuracy_score(y_test, preds)\n",
    "        d_knn[str(i)] = accuracy\n",
    "        if accuracy > score:\n",
    "            score = accuracy\n",
    "            k = i\n",
    "    print('k value: '+str(k)+'\\n' \n",
    "          'accuracy: '+str(score))\n",
    "    return d_knn"
   ]
  },
  {
   "cell_type": "code",
   "execution_count": null,
   "metadata": {
    "ExecuteTime": {
     "end_time": "2019-08-22T01:43:36.215405Z",
     "start_time": "2019-08-22T01:43:36.210905Z"
    }
   },
   "outputs": [],
   "source": [
    "#Fit Logistics regression to training data and find optimal 'C' value\n",
    "def fitlog(X_train, X_test, y_train ,y_test):\n",
    "    #Create dictionary to store values\n",
    "    d_logistic = defaultdict(int)\n",
    "    score = 0\n",
    "    k = 1\n",
    "    model = 0\n",
    "    for i in range(1,1002,100):\n",
    "        logistic = LogisticRegression(C = i)\n",
    "        logistic.fit(X_train, y_train)\n",
    "        preds = logistic.predict(X_test)\n",
    "        accuracy = accuracy_score(y_test, preds)\n",
    "        d_logistic[str(i)] = accuracy\n",
    "        if accuracy > score:\n",
    "            score = accuracy\n",
    "            k = i \n",
    "            model = logistic\n",
    "    print('C value: '+str(k)+'\\n' \n",
    "          'accuracy: '+str(score))\n",
    "    return d_logistic, model"
   ]
  },
  {
   "cell_type": "code",
   "execution_count": null,
   "metadata": {
    "ExecuteTime": {
     "end_time": "2019-08-21T17:26:59.746379Z",
     "start_time": "2019-08-21T17:26:59.743500Z"
    }
   },
   "outputs": [],
   "source": [
    "#Fit Decision Tree Classifier to training data\n",
    "def fitrf(X_train, X_test, y_train ,y_test):\n",
    "    rf = RandomForestClassifier()\n",
    "    rf.fit(X_train, y_train)\n",
    "    preds = rf.predict(X_test)\n",
    "    accuracy = accuracy_score(y_test, preds)\n",
    "    print('Random Forest Classifier accuracy: '+str(accuracy))\n",
    "    return rf"
   ]
  },
  {
   "cell_type": "code",
   "execution_count": null,
   "metadata": {
    "ExecuteTime": {
     "end_time": "2019-08-21T17:26:59.952774Z",
     "start_time": "2019-08-21T17:26:59.948579Z"
    }
   },
   "outputs": [],
   "source": [
    "def xgboost(X_train, X_test, y_train, y_test):\n",
    "    gbm = xgb.XGBClassifier(n_estimators=30000,\n",
    "                            max_depth=5,\n",
    "                            objective='binary:logistic',\n",
    "                            learning_rate=.05, \n",
    "                            subsample=.8,\n",
    "                            min_child_weight=2,\n",
    "                            colsample_bytree=.8)\n",
    "\n",
    "    eval_set=[(X_train,y_train),(X_test,y_test)]\n",
    "    fit_model = gbm.fit( \n",
    "                    X_train, y_train, \n",
    "                    eval_set=eval_set,\n",
    "                    eval_metric='error', #new evaluation metric: classification error (could also use AUC, e.g.)\n",
    "                    early_stopping_rounds=40,\n",
    "                    verbose=False\n",
    "                   )\n",
    "\n",
    "    print(accuracy_score(y_test, gbm.predict(X_test, ntree_limit=gbm.best_ntree_limit))) \n",
    "    return gbm.predict(X_test, ntree_limit=gbm.best_ntree_limit)"
   ]
  },
  {
   "cell_type": "code",
   "execution_count": null,
   "metadata": {
    "ExecuteTime": {
     "end_time": "2019-08-22T17:45:43.547237Z",
     "start_time": "2019-08-22T17:45:43.541503Z"
    }
   },
   "outputs": [],
   "source": [
    "def lightgbm(X_train, X_test, y_train, y_test, categorical = None):\n",
    "    lgb_train = lgb.Dataset(X_train, y_train, feature_name='auto',categorical_feature=categorical)\n",
    "    lgb_eval = lgb.Dataset(X_test, y_test, reference=lgb_train, feature_name='auto', categorical_feature=categorical)    \n",
    "    \n",
    "    params = {\n",
    "    'boosting_type': 'gbdt',\n",
    "    'objective': 'binary',\n",
    "    'metric': 'auc',\n",
    "    'num_leaves': 5,\n",
    "    'max_depth': 5,\n",
    "    'learning_rate': 0.03,\n",
    "    'feature_fraction': 0.8,\n",
    "    'bagging_fraction': 0.8,\n",
    "    'bagging_freq': 5,\n",
    "    'verbose': 0,\n",
    "    }\n",
    "    \n",
    "    gbm = lgb.train(params,\n",
    "                lgb_train,\n",
    "                num_boost_round=10000,\n",
    "                valid_sets=lgb_eval,early_stopping_rounds=50)\n",
    "    y_preds = gbm.predict(X_test, num_iteration=gbm.best_iteration)\n",
    "    y_preds1 = gbm.predict(X_train,num_iteration = gbm.best_iteration)\n",
    "    \n",
    "    \n",
    "    df_imp = pd.DataFrame({'feature' : gbm.feature_name(),\n",
    "                      'importance' : gbm.feature_importance(importance_type='gain')})\n",
    "    return y_preds, y_preds1, gbm, df_imp"
   ]
  },
  {
   "cell_type": "code",
   "execution_count": null,
   "metadata": {
    "ExecuteTime": {
     "end_time": "2019-08-22T17:45:44.280435Z",
     "start_time": "2019-08-22T17:45:44.275350Z"
    }
   },
   "outputs": [],
   "source": [
    "def accuracy(actuals, preds):\n",
    "    return np.mean(actuals == preds)\n",
    "\n",
    "def precision(actuals,preds):\n",
    "    tp = np.sum((actuals == 1) & (preds == 1))\n",
    "    fp = np.sum((actuals == 0) & (preds == 1))\n",
    "    return tp / (tp + fp)\n",
    "\n",
    "def recall(actuals, preds):\n",
    "    tp = np.sum((actuals == 1) & (preds == 1))\n",
    "    fn = np.sum((actuals == 1) & (preds == 0))\n",
    "    return tp / (tp + fn)\n",
    "\n",
    "def F1(actuals, preds):\n",
    "    p, r = precision(actuals, preds), recall(actuals, preds)\n",
    "    return 2*p*r / (p + r)\n",
    "\n",
    "def f1_beta(actuals, preds, beta):\n",
    "    return fbeta_score(actuals, preds, beta)"
   ]
  },
  {
   "cell_type": "code",
   "execution_count": null,
   "metadata": {
    "ExecuteTime": {
     "end_time": "2019-08-20T20:09:18.527447Z",
     "start_time": "2019-08-20T20:03:48.022432Z"
    }
   },
   "outputs": [],
   "source": [
    "#Fit KNN Classifier\n",
    "d_knn = fitknn(X_tr, X_te, y_tr, y_te)"
   ]
  },
  {
   "cell_type": "code",
   "execution_count": null,
   "metadata": {
    "ExecuteTime": {
     "end_time": "2019-08-22T01:43:39.808793Z",
     "start_time": "2019-08-22T01:43:39.783307Z"
    }
   },
   "outputs": [],
   "source": [
    "#Fit a logistic regression\n",
    "d_logistic, model = fitlog(X_tr, X_te, y_tr, y_te)"
   ]
  },
  {
   "cell_type": "code",
   "execution_count": null,
   "metadata": {
    "ExecuteTime": {
     "end_time": "2019-08-20T20:12:27.395909Z",
     "start_time": "2019-08-20T20:12:21.617919Z"
    }
   },
   "outputs": [],
   "source": [
    "rf = fitrf(X_tr, X_te, y_tr, y_te)"
   ]
  },
  {
   "cell_type": "code",
   "execution_count": null,
   "metadata": {
    "ExecuteTime": {
     "end_time": "2019-08-20T20:13:12.708835Z",
     "start_time": "2019-08-20T20:12:27.397521Z"
    }
   },
   "outputs": [],
   "source": [
    "y_predict = xgboost(X_tr, X_te, y_tr, y_te)"
   ]
  },
  {
   "cell_type": "code",
   "execution_count": null,
   "metadata": {
    "ExecuteTime": {
     "end_time": "2019-08-21T03:12:29.366356Z",
     "start_time": "2019-08-21T03:12:29.351952Z"
    }
   },
   "outputs": [],
   "source": [
    "X_tr.head()"
   ]
  },
  {
   "cell_type": "code",
   "execution_count": null,
   "metadata": {
    "ExecuteTime": {
     "end_time": "2019-08-22T01:43:47.027314Z",
     "start_time": "2019-08-22T01:43:47.003627Z"
    }
   },
   "outputs": [],
   "source": [
    "y_preds_val, y_preds_tr, gbm, df_imp = lightgbm(X_tr, X_te, y_tr, y_te)"
   ]
  },
  {
   "cell_type": "code",
   "execution_count": null,
   "metadata": {
    "ExecuteTime": {
     "end_time": "2019-08-21T17:40:53.244019Z",
     "start_time": "2019-08-21T17:40:52.911156Z"
    }
   },
   "outputs": [],
   "source": [
    "X_test = pkl.load(open('/Users/ferdinandwohlenberg/Desktop/Projects/Project_4/Data/X_test', 'rb'))\n",
    "y_test = pkl.load(open('/Users/ferdinandwohlenberg/Desktop/Projects/Project_4/Data/y_test', 'rb'))"
   ]
  },
  {
   "cell_type": "code",
   "execution_count": null,
   "metadata": {
    "ExecuteTime": {
     "end_time": "2019-08-21T03:37:40.767627Z",
     "start_time": "2019-08-21T03:37:40.693583Z"
    }
   },
   "outputs": [],
   "source": [
    "X_test"
   ]
  },
  {
   "cell_type": "code",
   "execution_count": null,
   "metadata": {
    "ExecuteTime": {
     "end_time": "2019-08-21T18:12:02.855744Z",
     "start_time": "2019-08-21T18:12:02.844966Z"
    }
   },
   "outputs": [],
   "source": [
    "#predictions_test = gbm.predict(testdf.drop(['Day', 'Date', 'price_1month_ahead'], axis = 1), num_iteration=gbm.best_iteration)\n",
    "predictions = gbm.predict(testdf.drop(['Day', 'Date', 'price_1month_ahead'], axis = 1), num_iteration=gbm.best_iteration)"
   ]
  },
  {
   "cell_type": "code",
   "execution_count": null,
   "metadata": {
    "ExecuteTime": {
     "end_time": "2019-08-21T18:14:17.972013Z",
     "start_time": "2019-08-21T18:14:17.964116Z"
    }
   },
   "outputs": [],
   "source": [
    "y_preds_val"
   ]
  },
  {
   "cell_type": "code",
   "execution_count": null,
   "metadata": {
    "ExecuteTime": {
     "end_time": "2019-08-21T03:51:55.521132Z",
     "start_time": "2019-08-21T03:51:55.510594Z"
    }
   },
   "outputs": [],
   "source": [
    "y_tr[y_tr == 0]"
   ]
  },
  {
   "cell_type": "code",
   "execution_count": null,
   "metadata": {
    "ExecuteTime": {
     "end_time": "2019-08-21T18:52:32.640459Z",
     "start_time": "2019-08-21T18:52:32.637972Z"
    }
   },
   "outputs": [],
   "source": [
    "y_preds_val_hard = y_preds_val > 0.9\n",
    "y_preds_tr_hard = y_preds_tr > 0.75\n",
    "predictions_hard = predictions > 0.5"
   ]
  },
  {
   "cell_type": "code",
   "execution_count": null,
   "metadata": {
    "ExecuteTime": {
     "end_time": "2019-08-21T18:14:41.353397Z",
     "start_time": "2019-08-21T18:14:41.347920Z"
    }
   },
   "outputs": [],
   "source": [
    "X_te['predictions'] = y_preds_val_hard\n",
    "X_te['predictions_soft'] = y_preds_val\n",
    "X_te['predictions'].value_counts()\n",
    "testdf['predictions'] = predictions_hard\n",
    "testdf['profits'] = (y_test/100)*testdf['Close']\n",
    "testdf['target'] = y_test > 0"
   ]
  },
  {
   "cell_type": "code",
   "execution_count": null,
   "metadata": {
    "ExecuteTime": {
     "end_time": "2019-08-21T18:13:07.633064Z",
     "start_time": "2019-08-21T18:13:07.625273Z"
    }
   },
   "outputs": [],
   "source": [
    "df_imp"
   ]
  },
  {
   "cell_type": "code",
   "execution_count": null,
   "metadata": {
    "ExecuteTime": {
     "end_time": "2019-08-21T18:23:38.281691Z",
     "start_time": "2019-08-21T18:23:38.278818Z"
    }
   },
   "outputs": [],
   "source": [
    "X_te['profits'] = df_profit_te['target']*df_profit_te['Close']"
   ]
  },
  {
   "cell_type": "code",
   "execution_count": null,
   "metadata": {
    "ExecuteTime": {
     "end_time": "2019-08-21T18:23:38.816195Z",
     "start_time": "2019-08-21T18:23:38.813309Z"
    }
   },
   "outputs": [],
   "source": [
    "profits = np.sum(X_te['profits']*X_te['predictions'])"
   ]
  },
  {
   "cell_type": "code",
   "execution_count": null,
   "metadata": {
    "ExecuteTime": {
     "end_time": "2019-08-21T18:23:41.747018Z",
     "start_time": "2019-08-21T18:23:41.744172Z"
    }
   },
   "outputs": [],
   "source": [
    "profits = np.sum(testdf['profits']*testdf['predictions'])"
   ]
  },
  {
   "cell_type": "code",
   "execution_count": null,
   "metadata": {
    "ExecuteTime": {
     "end_time": "2019-08-21T18:23:41.975955Z",
     "start_time": "2019-08-21T18:23:41.973191Z"
    }
   },
   "outputs": [],
   "source": [
    "profits"
   ]
  },
  {
   "cell_type": "code",
   "execution_count": null,
   "metadata": {
    "ExecuteTime": {
     "end_time": "2019-08-21T18:15:10.808688Z",
     "start_time": "2019-08-21T18:15:10.802842Z"
    }
   },
   "outputs": [],
   "source": [
    "#Amount an investore would have lost when investing every time the model is saying the price will go up. False Positive,\n",
    "np.sum(X_te[((X_te.profits < 0) & (X_te.predictions == 1))]['profits'])"
   ]
  },
  {
   "cell_type": "code",
   "execution_count": null,
   "metadata": {
    "ExecuteTime": {
     "end_time": "2019-08-21T18:17:25.752758Z",
     "start_time": "2019-08-21T18:17:25.749365Z"
    }
   },
   "outputs": [],
   "source": [
    "testing = X_te[(X_te.profits < 0)]"
   ]
  },
  {
   "cell_type": "code",
   "execution_count": null,
   "metadata": {
    "ExecuteTime": {
     "end_time": "2019-08-21T18:17:30.742696Z",
     "start_time": "2019-08-21T18:17:30.726624Z"
    }
   },
   "outputs": [],
   "source": [
    "testing"
   ]
  },
  {
   "cell_type": "code",
   "execution_count": null,
   "metadata": {
    "ExecuteTime": {
     "end_time": "2019-08-21T18:23:54.136436Z",
     "start_time": "2019-08-21T18:23:54.131570Z"
    }
   },
   "outputs": [],
   "source": [
    "#Profits per tweet that was marked with a go ahead\n",
    "profits/len(testdf[testdf.predictions == 1])"
   ]
  },
  {
   "cell_type": "code",
   "execution_count": null,
   "metadata": {
    "ExecuteTime": {
     "end_time": "2019-08-21T04:19:43.462835Z",
     "start_time": "2019-08-21T04:19:43.454876Z"
    }
   },
   "outputs": [],
   "source": [
    "#Return on Investment\n",
    "investments_required = testdf[testdf.predictions == 1]\n",
    "investment = np.sum(investments_required['Close'])\n",
    "print('Return on Investment: '+str(round((profits/investment)*100,2))+'%')"
   ]
  },
  {
   "cell_type": "code",
   "execution_count": null,
   "metadata": {
    "ExecuteTime": {
     "end_time": "2019-08-21T04:25:20.338392Z",
     "start_time": "2019-08-21T04:25:20.329627Z"
    }
   },
   "outputs": [],
   "source": [
    "#Sort by day\n",
    "testdf.groupby(['Day'])['predictions'].mean()\n",
    "Merge"
   ]
  },
  {
   "cell_type": "code",
   "execution_count": null,
   "metadata": {
    "ExecuteTime": {
     "end_time": "2019-08-21T04:18:03.700945Z",
     "start_time": "2019-08-21T04:18:03.698149Z"
    }
   },
   "outputs": [],
   "source": [
    "profits/investment"
   ]
  },
  {
   "cell_type": "code",
   "execution_count": null,
   "metadata": {
    "ExecuteTime": {
     "end_time": "2019-08-21T04:16:15.410894Z",
     "start_time": "2019-08-21T04:16:15.361081Z"
    }
   },
   "outputs": [],
   "source": [
    "testdf[testdf.predictions == 1]*testdf[]"
   ]
  },
  {
   "cell_type": "code",
   "execution_count": null,
   "metadata": {
    "ExecuteTime": {
     "end_time": "2019-08-21T04:11:33.666563Z",
     "start_time": "2019-08-21T04:11:33.623698Z"
    }
   },
   "outputs": [],
   "source": [
    "X_te[X_te.predictions ==1].head(100)"
   ]
  },
  {
   "cell_type": "code",
   "execution_count": null,
   "metadata": {
    "ExecuteTime": {
     "end_time": "2019-08-21T18:52:37.472173Z",
     "start_time": "2019-08-21T18:52:37.458549Z"
    }
   },
   "outputs": [],
   "source": [
    "print('F1 Score Train: '+str(F1(y_tr,y_preds_tr_hard)))\n",
    "print('F1 Score Validation: '+str(F1(y_te, y_preds_val_hard)))\n",
    "\n",
    "print('Precision Score Train: '+str(precision(y_tr,y_preds_tr_hard)))\n",
    "print('Precision Score Validation: '+str(precision(y_te, y_preds_val_hard)))\n",
    "\n",
    "print('Recall Score Train: '+str(recall(y_tr, y_preds_tr_hard)))\n",
    "print('Recall Score Validation: '+str(recall( y_te,y_preds_val_hard)))"
   ]
  },
  {
   "cell_type": "code",
   "execution_count": null,
   "metadata": {
    "ExecuteTime": {
     "end_time": "2019-08-21T18:44:27.160881Z",
     "start_time": "2019-08-21T18:44:27.153944Z"
    }
   },
   "outputs": [],
   "source": [
    "print('F1 Score Train: '+str(precision(testdf['target'],predictions_hard)))\n",
    "\n",
    "print('Precision Score Train: '+str(precision(testdf['target'],predictions_hard)))\n",
    "\n",
    "print('Recall Score Train: '+str(recall(testdf['target'], predictions_hard)))"
   ]
  },
  {
   "cell_type": "code",
   "execution_count": null,
   "metadata": {
    "ExecuteTime": {
     "end_time": "2019-08-21T18:35:46.122667Z",
     "start_time": "2019-08-21T18:35:46.118964Z"
    }
   },
   "outputs": [],
   "source": [
    "accuracy(testdf['target'], predictions_hard)b"
   ]
  },
  {
   "cell_type": "code",
   "execution_count": null,
   "metadata": {
    "ExecuteTime": {
     "end_time": "2019-08-21T18:44:48.791309Z",
     "start_time": "2019-08-21T18:44:48.786952Z"
    }
   },
   "outputs": [],
   "source": [
    "precision(testdf['target'],predictions_hard)"
   ]
  },
  {
   "cell_type": "code",
   "execution_count": null,
   "metadata": {
    "ExecuteTime": {
     "end_time": "2019-08-21T18:28:43.421157Z",
     "start_time": "2019-08-21T18:28:43.416859Z"
    }
   },
   "outputs": [],
   "source": [
    "len(df_profit_tr[df_profit_tr.target<0])"
   ]
  },
  {
   "cell_type": "code",
   "execution_count": null,
   "metadata": {
    "ExecuteTime": {
     "end_time": "2019-08-21T04:11:38.506859Z",
     "start_time": "2019-08-21T04:11:38.498386Z"
    }
   },
   "outputs": [],
   "source": [
    "precision(y_test, predictions_hard)"
   ]
  },
  {
   "cell_type": "code",
   "execution_count": null,
   "metadata": {
    "ExecuteTime": {
     "end_time": "2019-08-21T04:11:38.697766Z",
     "start_time": "2019-08-21T04:11:38.695216Z"
    }
   },
   "outputs": [],
   "source": [
    "tp = testdf[(testdf.predictions == 1)%(testdf.)]"
   ]
  },
  {
   "cell_type": "code",
   "execution_count": null,
   "metadata": {
    "ExecuteTime": {
     "end_time": "2019-08-20T20:09:18.533066Z",
     "start_time": "2019-08-20T20:03:50.331Z"
    }
   },
   "outputs": [],
   "source": [
    "#Compute the return\n",
    "def profit(df, column, classification):\n",
    "    df_class = df[df[column] == classification]\n",
    "    "
   ]
  },
  {
   "cell_type": "code",
   "execution_count": null,
   "metadata": {
    "ExecuteTime": {
     "end_time": "2019-08-21T03:26:34.831323Z",
     "start_time": "2019-08-21T03:26:34.736543Z"
    }
   },
   "outputs": [],
   "source": [
    "df_profit_tr['predictions'] = y_preds_tr"
   ]
  },
  {
   "cell_type": "code",
   "execution_count": null,
   "metadata": {
    "ExecuteTime": {
     "end_time": "2019-08-22T19:36:44.265470Z",
     "start_time": "2019-08-22T19:36:44.258044Z"
    }
   },
   "outputs": [],
   "source": [
    "#Stagging\n",
    "X_tr['target'] = y_tr\n",
    "X_tr = X_tr.sort_values(by = 'Date')\n",
    "X_tr['target'] = X_tr['target'].apply(lambda x: convertprices(x))\n",
    "y_tr = X_tr['target']\n",
    "X_tr.drop(labels = ['Date','target','Day', 'price_1hour_ahead', 'price_2days_ahead','price_1week_ahead',\n",
    "'price_2weeks_ahead', 'price_1month_ahead'] , axis = 1, inplace = True)"
   ]
  },
  {
   "cell_type": "code",
   "execution_count": null,
   "metadata": {
    "ExecuteTime": {
     "end_time": "2019-08-22T19:36:44.557607Z",
     "start_time": "2019-08-22T19:36:44.553023Z"
    }
   },
   "outputs": [],
   "source": [
    "y_tr.value_counts()"
   ]
  },
  {
   "cell_type": "code",
   "execution_count": null,
   "metadata": {
    "ExecuteTime": {
     "end_time": "2019-08-22T19:36:45.716432Z",
     "start_time": "2019-08-22T19:36:44.802956Z"
    }
   },
   "outputs": [],
   "source": [
    "start = int(len(X_tr) * 0.4)\n",
    "targets = 30\n",
    "accuracy_list = []\n",
    "precision_list = []\n",
    "recall_list = []\n",
    "for i in range(start, len(X_tr), 50):\n",
    "    print(start)\n",
    "    startdf = X_tr.iloc[:i]\n",
    "    targetdf = y_tr.iloc[:i]\n",
    "    predsdf = X_tr.iloc[i:(i+targets)]\n",
    "    predsy = y_tr.iloc[i:(i+targets)]\n",
    "    y_preds_val, y_preds_tr, gbm, df_imp = lightgbm(startdf, predsdf, targetdf, predsy)\n",
    "    \n",
    "    #Convert to hard classification\n",
    "    y_preds_val_hard = y_preds_val > 0.277\n",
    "    y_preds_tr_hard = y_preds_tr > 0.37\n",
    "    \n",
    "    score1 = recall(predsy,y_preds_val_hard)\n",
    "    score2 = precision(predsy,y_preds_val_hard)\n",
    "    score3 = accuracy(predsy,y_preds_val_hard)\n",
    "\n",
    "    recall_list.append(score1)\n",
    "    precision_list.append(score2)\n",
    "    accuracy_list.append(score3)\n",
    "    \n",
    "    \n",
    "    print('F1 Score Train: '+str(F1(targetdf,y_preds_tr_hard)))\n",
    "    print('F1 Score Validation: '+str(F1(predsy, y_preds_val_hard)))\n",
    "    \n",
    "    print('Accuracy Score Train: '+str(accuracy(targetdf,y_preds_tr_hard)))\n",
    "    print('Accuracy Score Validation: '+str(accuracy(predsy, y_preds_val_hard)))\n",
    "\n",
    "    print('Precision Score Train: '+str(precision(targetdf,y_preds_tr_hard)))\n",
    "    print('Precision Score Validation: '+str(precision(predsy, y_preds_val_hard)))\n",
    "\n",
    "    print('Recall Score Train: '+str(recall(targetdf, y_preds_tr_hard)))\n",
    "    print('Recall Score Validation: '+str(recall(predsy,y_preds_val_hard)))"
   ]
  },
  {
   "cell_type": "code",
   "execution_count": null,
   "metadata": {
    "ExecuteTime": {
     "end_time": "2019-08-22T19:36:45.722530Z",
     "start_time": "2019-08-22T19:36:45.718634Z"
    }
   },
   "outputs": [],
   "source": [
    "y_preds_val"
   ]
  },
  {
   "cell_type": "code",
   "execution_count": null,
   "metadata": {
    "ExecuteTime": {
     "end_time": "2019-08-22T19:36:45.727792Z",
     "start_time": "2019-08-22T19:36:45.724488Z"
    }
   },
   "outputs": [],
   "source": [
    "recall_list"
   ]
  },
  {
   "cell_type": "code",
   "execution_count": null,
   "metadata": {
    "ExecuteTime": {
     "end_time": "2019-08-22T19:36:45.736750Z",
     "start_time": "2019-08-22T19:36:45.729482Z"
    }
   },
   "outputs": [],
   "source": [
    "X_te['target'] = y_te\n",
    "X_te['target'] = X_te['target'].apply(lambda x: convertprices(x))\n",
    "y_te_hard = X_te['target']\n",
    "X_te.drop(labels = ['Date','target','Day', 'price_1hour_ahead', 'price_1week_ahead','price_2days_ahead',\n",
    "'price_2weeks_ahead', 'price_1month_ahead'] , axis = 1, inplace = True)"
   ]
  },
  {
   "cell_type": "code",
   "execution_count": null,
   "metadata": {
    "ExecuteTime": {
     "end_time": "2019-08-22T19:36:45.976386Z",
     "start_time": "2019-08-22T19:36:45.963802Z"
    }
   },
   "outputs": [],
   "source": [
    "#Test Scores\n",
    "preds = gbm.predict(X_te, num_iteration=gbm.best_iteration)\n",
    "preds_hard = preds > 0.277\n",
    "F1(y_te_hard, preds_hard)"
   ]
  },
  {
   "cell_type": "code",
   "execution_count": null,
   "metadata": {
    "ExecuteTime": {
     "end_time": "2019-08-22T19:36:46.577074Z",
     "start_time": "2019-08-22T19:36:46.572708Z"
    }
   },
   "outputs": [],
   "source": [
    "X_te['predictions'] = preds_hard\n",
    "X_te['profit_percent'] = y_te\n",
    "X_te['profits'] = X_te['predictions']*X_te['Close']*X_te['profit_percent']"
   ]
  },
  {
   "cell_type": "code",
   "execution_count": null,
   "metadata": {
    "ExecuteTime": {
     "end_time": "2019-08-22T19:36:48.615550Z",
     "start_time": "2019-08-22T19:36:48.612706Z"
    }
   },
   "outputs": [],
   "source": [
    "profits = np.sum(X_te['profits']*X_te['predictions'])"
   ]
  },
  {
   "cell_type": "code",
   "execution_count": null,
   "metadata": {
    "ExecuteTime": {
     "end_time": "2019-08-22T19:36:49.206994Z",
     "start_time": "2019-08-22T19:36:49.204350Z"
    }
   },
   "outputs": [],
   "source": [
    "profits"
   ]
  },
  {
   "cell_type": "code",
   "execution_count": null,
   "metadata": {
    "ExecuteTime": {
     "end_time": "2019-08-22T19:36:50.932359Z",
     "start_time": "2019-08-22T19:36:50.926913Z"
    }
   },
   "outputs": [],
   "source": [
    "#Amount an investore would have lost when investing every time the model is saying the price will go up. False Positive,\n",
    "np.sum(X_te[((X_te.profits < 0) & (X_te.predictions == 1))]['profits'])"
   ]
  },
  {
   "cell_type": "code",
   "execution_count": null,
   "metadata": {
    "ExecuteTime": {
     "end_time": "2019-08-22T19:36:52.300599Z",
     "start_time": "2019-08-22T19:36:52.296261Z"
    }
   },
   "outputs": [],
   "source": [
    "#Return on Investment\n",
    "total_investment = np.sum(X_te[X_te.predictions == 1]['Close'])\n",
    "ROI = (profits/total_investment)*100"
   ]
  },
  {
   "cell_type": "code",
   "execution_count": null,
   "metadata": {
    "ExecuteTime": {
     "end_time": "2019-08-22T19:36:53.974318Z",
     "start_time": "2019-08-22T19:36:53.971866Z"
    }
   },
   "outputs": [],
   "source": [
    "print('Return on Investment: '+str(ROI)+'%')"
   ]
  },
  {
   "cell_type": "code",
   "execution_count": null,
   "metadata": {
    "ExecuteTime": {
     "end_time": "2019-08-22T19:36:59.784163Z",
     "start_time": "2019-08-22T19:36:59.779990Z"
    }
   },
   "outputs": [],
   "source": [
    "len(X_te[X_te.predictions == 1])"
   ]
  },
  {
   "cell_type": "code",
   "execution_count": null,
   "metadata": {
    "ExecuteTime": {
     "end_time": "2019-08-22T02:00:13.549333Z",
     "start_time": "2019-08-22T02:00:13.543475Z"
    }
   },
   "outputs": [],
   "source": [
    "#Store final model\n",
    "pkl.dump(X_tr, open('/Users/ferdinandwohlenberg/Desktop/Projects/Project_4/Data/X_train.pkl', 'wb'))\n",
    "pkl.dump(X_te, open('/Users/ferdinandwohlenberg/Desktop/Projects/Project_4/Data/X_test.pkl', 'wb'))\n",
    "pkl.dump(y_tr, open('/Users/ferdinandwohlenberg/Desktop/Projects/Project_4/Data/y_train.pkl', 'wb'))\n",
    "pkl.dump(y_te, open('/Users/ferdinandwohlenberg/Desktop/Projects/Project_4/Data/y_test.pkl', 'wb'))\n",
    "pkl.dump(preds, open('/Users/ferdinandwohlenberg/Desktop/Projects/Project_4/Data/predictions_lgbm', 'wb'))"
   ]
  },
  {
   "cell_type": "code",
   "execution_count": null,
   "metadata": {
    "ExecuteTime": {
     "end_time": "2019-08-22T02:00:21.234570Z",
     "start_time": "2019-08-22T02:00:21.231215Z"
    }
   },
   "outputs": [],
   "source": [
    "df_imp.to_csv('/Users/ferdinandwohlenberg/Desktop/Projects/Project_4/Graphs/Feature_Importance.csv')"
   ]
  },
  {
   "cell_type": "code",
   "execution_count": null,
   "metadata": {
    "ExecuteTime": {
     "end_time": "2019-08-22T18:42:32.200509Z",
     "start_time": "2019-08-22T18:42:32.080420Z"
    }
   },
   "outputs": [],
   "source": [
    "#Confusion Matrix\n",
    "plt.figure(figsize=(10,6))\n",
    "cm = confusion_matrix(y_te_hard,preds_hard)\n",
    "cm = cm.astype('float') / cm.sum(axis = 0)[np.newaxis,:]\n",
    "sns.heatmap(cm,cmap=plt.cm.Blues,annot=True,square=True,\n",
    "                xticklabels=[0,1],\n",
    "                yticklabels=[0,1],\n",
    "                fmt='g')\n",
    "plt.title('Light GBM Confusion Matrix', size=15)"
   ]
  },
  {
   "cell_type": "code",
   "execution_count": null,
   "metadata": {
    "ExecuteTime": {
     "end_time": "2019-08-22T18:40:18.233881Z",
     "start_time": "2019-08-22T18:40:18.230913Z"
    }
   },
   "outputs": [],
   "source": [
    "accuracy(y_te_hard, preds_hard)"
   ]
  },
  {
   "cell_type": "markdown",
   "metadata": {},
   "source": [
    "### Regression Model"
   ]
  },
  {
   "cell_type": "code",
   "execution_count": null,
   "metadata": {
    "ExecuteTime": {
     "end_time": "2019-08-18T16:26:11.644397Z",
     "start_time": "2019-08-18T16:26:10.620790Z"
    }
   },
   "outputs": [],
   "source": [
    "pkl.dump(df_model1, open('/Users/ferdinandwohlenberg/Desktop/Projects/Project_4/Data/model.pkl', 'wb'))"
   ]
  },
  {
   "cell_type": "code",
   "execution_count": null,
   "metadata": {
    "ExecuteTime": {
     "end_time": "2019-08-18T15:59:50.643057Z",
     "start_time": "2019-08-18T15:59:49.294263Z"
    }
   },
   "outputs": [],
   "source": [
    "df_model = pkl.load(open('/Users/ferdinandwohlenberg/Desktop/Projects/Project_4/Data/model.pkl', 'rb'))"
   ]
  }
 ],
 "metadata": {
  "kernelspec": {
   "display_name": "Python 3",
   "language": "python",
   "name": "python3"
  },
  "language_info": {
   "codemirror_mode": {
    "name": "ipython",
    "version": 3
   },
   "file_extension": ".py",
   "mimetype": "text/x-python",
   "name": "python",
   "nbconvert_exporter": "python",
   "pygments_lexer": "ipython3",
   "version": "3.7.4"
  }
 },
 "nbformat": 4,
 "nbformat_minor": 2
}
