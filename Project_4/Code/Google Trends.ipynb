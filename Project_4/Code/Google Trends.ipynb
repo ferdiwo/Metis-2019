{
 "cells": [
  {
   "cell_type": "code",
   "execution_count": null,
   "metadata": {
    "ExecuteTime": {
     "end_time": "2019-09-19T14:13:20.055123Z",
     "start_time": "2019-09-19T14:13:19.587379Z"
    }
   },
   "outputs": [],
   "source": [
    "import pandas as pd\n",
    "import numpy as np\n",
    "import pickle as pkl"
   ]
  },
  {
   "cell_type": "code",
   "execution_count": null,
   "metadata": {
    "ExecuteTime": {
     "end_time": "2019-09-19T14:13:20.663673Z",
     "start_time": "2019-09-19T14:13:20.647676Z"
    }
   },
   "outputs": [],
   "source": [
    "df_3years = pd.read_csv('~/Desktop/Projects/Project_4/Data/Google_trends/multiTimeline_3y.csv', skiprows = 1)"
   ]
  },
  {
   "cell_type": "code",
   "execution_count": null,
   "metadata": {
    "ExecuteTime": {
     "end_time": "2019-08-20T18:31:46.760866Z",
     "start_time": "2019-08-20T18:31:46.757652Z"
    }
   },
   "outputs": [],
   "source": [
    "#Load daily google trends data\n",
    "def load():\n",
    "    for i in range(14):\n",
    "        if i == 0:\n",
    "            df = pd.read_csv('~/Desktop/Projects/Project_4/Data/Google_trends/multiTimeline.csv', skiprows = 1)\n",
    "        else:\n",
    "            df1 = pd.read_csv('~/Desktop/Projects/Project_4/Data/Google_trends/multiTimeline ('+str(i)+').csv', skiprows = 1)\n",
    "            df = pd.concat([df,df1])\n",
    "    return df"
   ]
  },
  {
   "cell_type": "code",
   "execution_count": null,
   "metadata": {
    "ExecuteTime": {
     "end_time": "2019-08-20T18:31:46.935779Z",
     "start_time": "2019-08-20T18:31:46.908306Z"
    }
   },
   "outputs": [],
   "source": [
    "df_daily = load()"
   ]
  },
  {
   "cell_type": "code",
   "execution_count": null,
   "metadata": {
    "ExecuteTime": {
     "end_time": "2019-08-20T18:31:47.041618Z",
     "start_time": "2019-08-20T18:31:47.039470Z"
    }
   },
   "outputs": [],
   "source": [
    "def timestamp(df):\n",
    "    timestamp = pd.Timestamp(df)\n",
    "    return timestamp"
   ]
  },
  {
   "cell_type": "code",
   "execution_count": null,
   "metadata": {
    "ExecuteTime": {
     "end_time": "2019-08-20T18:31:47.204899Z",
     "start_time": "2019-08-20T18:31:47.197517Z"
    }
   },
   "outputs": [],
   "source": [
    "df_3years['date'] = np.vectorize(timestamp)(df_3years['Week'])\n",
    "df_daily['date'] = np.vectorize(timestamp)(df_daily['Day'])"
   ]
  },
  {
   "cell_type": "code",
   "execution_count": null,
   "metadata": {
    "ExecuteTime": {
     "end_time": "2019-08-20T18:31:47.361464Z",
     "start_time": "2019-08-20T18:31:47.348601Z"
    }
   },
   "outputs": [],
   "source": [
    "df_3years.sort_values(by = 'date')"
   ]
  },
  {
   "cell_type": "code",
   "execution_count": null,
   "metadata": {
    "ExecuteTime": {
     "end_time": "2019-08-20T18:31:47.499337Z",
     "start_time": "2019-08-20T18:31:47.495426Z"
    }
   },
   "outputs": [],
   "source": [
    "df_daily.drop_duplicates(subset = 'date', inplace = True)"
   ]
  },
  {
   "cell_type": "code",
   "execution_count": null,
   "metadata": {
    "ExecuteTime": {
     "end_time": "2019-08-20T18:31:47.661394Z",
     "start_time": "2019-08-20T18:31:47.655745Z"
    }
   },
   "outputs": [],
   "source": [
    "df_weekly = df_3years.merge(df_daily, on = 'date', how = 'left')"
   ]
  },
  {
   "cell_type": "code",
   "execution_count": null,
   "metadata": {
    "ExecuteTime": {
     "end_time": "2019-08-20T18:31:47.844834Z",
     "start_time": "2019-08-20T18:31:47.841731Z"
    }
   },
   "outputs": [],
   "source": [
    "df_weekly['adjustment_factor'] = df_weekly['Bitcoin: (United States)_x'] / df_weekly['Bitcoin: (United States)_y']"
   ]
  },
  {
   "cell_type": "code",
   "execution_count": null,
   "metadata": {
    "ExecuteTime": {
     "end_time": "2019-08-20T18:31:50.946015Z",
     "start_time": "2019-08-20T18:31:50.937955Z"
    }
   },
   "outputs": [],
   "source": [
    "df_weekly.head()"
   ]
  },
  {
   "cell_type": "code",
   "execution_count": null,
   "metadata": {
    "ExecuteTime": {
     "end_time": "2019-08-20T18:38:50.158704Z",
     "start_time": "2019-08-20T18:38:50.152520Z"
    }
   },
   "outputs": [],
   "source": [
    "df_test = df_daily.merge(df_weekly[['date','adjustment_factor']], on = 'date', how = 'left')"
   ]
  },
  {
   "cell_type": "code",
   "execution_count": null,
   "metadata": {
    "ExecuteTime": {
     "end_time": "2019-08-20T18:38:51.325620Z",
     "start_time": "2019-08-20T18:38:51.322446Z"
    }
   },
   "outputs": [],
   "source": [
    "df_test = df_test.sort_values(by = 'date')"
   ]
  },
  {
   "cell_type": "code",
   "execution_count": null,
   "metadata": {
    "ExecuteTime": {
     "end_time": "2019-08-20T18:38:51.481846Z",
     "start_time": "2019-08-20T18:38:51.474811Z"
    }
   },
   "outputs": [],
   "source": [
    "df_test.head()"
   ]
  },
  {
   "cell_type": "code",
   "execution_count": null,
   "metadata": {
    "ExecuteTime": {
     "end_time": "2019-08-20T18:38:56.624240Z",
     "start_time": "2019-08-20T18:38:56.620160Z"
    }
   },
   "outputs": [],
   "source": [
    "def adjustsvi(df_test):\n",
    "    for index in range(len(df_test['date'])):\n",
    "        if index <2:\n",
    "            index1 = 2    \n",
    "        elif index < 9:\n",
    "            index1 = 9\n",
    "        elif (index-3)%7 == 0:\n",
    "            index1 = (index+6)\n",
    "        elif index+7 == len(df_test):\n",
    "            return df_test   \n",
    "        print(df_test.adjustment_factor.iloc[index1])\n",
    "        df_test.adjustment_factor.iloc[index] = df_test.adjustment_factor.iloc[index1]"
   ]
  },
  {
   "cell_type": "code",
   "execution_count": null,
   "metadata": {
    "ExecuteTime": {
     "end_time": "2019-08-20T18:39:16.053154Z",
     "start_time": "2019-08-20T18:38:56.856441Z"
    }
   },
   "outputs": [],
   "source": [
    "df1 = adjustsvi(df_test)"
   ]
  },
  {
   "cell_type": "code",
   "execution_count": null,
   "metadata": {
    "ExecuteTime": {
     "end_time": "2019-08-20T18:39:30.663677Z",
     "start_time": "2019-08-20T18:39:30.660337Z"
    }
   },
   "outputs": [],
   "source": [
    "df1['SVI'] = df1['Bitcoin: (United States)']*df1['adjustment_factor']"
   ]
  },
  {
   "cell_type": "code",
   "execution_count": null,
   "metadata": {
    "ExecuteTime": {
     "end_time": "2019-08-20T18:39:32.471105Z",
     "start_time": "2019-08-20T18:39:32.467369Z"
    }
   },
   "outputs": [],
   "source": [
    "df = df1[['date', 'SVI']]"
   ]
  },
  {
   "cell_type": "code",
   "execution_count": null,
   "metadata": {
    "ExecuteTime": {
     "end_time": "2019-08-20T18:39:48.418454Z",
     "start_time": "2019-08-20T18:39:48.411700Z"
    }
   },
   "outputs": [],
   "source": [
    "df.tail(20)"
   ]
  },
  {
   "cell_type": "code",
   "execution_count": null,
   "metadata": {
    "ExecuteTime": {
     "end_time": "2019-08-20T18:42:07.343750Z",
     "start_time": "2019-08-20T18:42:07.339735Z"
    }
   },
   "outputs": [],
   "source": [
    "def sviovertime(x, df, days):\n",
    "    svi = []\n",
    "    length = len(x)\n",
    "    count = 0\n",
    "    hours = int(days)\n",
    "    for index, c in enumerate(x):\n",
    "        svi_score = np.sum(df['SVI'].iloc[index:(index+hours)]) / hours\n",
    "        svi.append(svi_score)\n",
    "        count+=1\n",
    "        if count == (length-hours):\n",
    "            for i in range(hours):\n",
    "                svi.append(0)\n",
    "            break\n",
    "    return svi"
   ]
  },
  {
   "cell_type": "code",
   "execution_count": null,
   "metadata": {
    "ExecuteTime": {
     "end_time": "2019-08-20T18:42:08.202058Z",
     "start_time": "2019-08-20T18:42:07.966714Z"
    }
   },
   "outputs": [],
   "source": [
    "x = df['SVI']\n",
    "df['svi_mean_last_month'] = sviovertime(x, df,30)"
   ]
  },
  {
   "cell_type": "code",
   "execution_count": null,
   "metadata": {
    "ExecuteTime": {
     "end_time": "2019-08-20T18:43:18.391268Z",
     "start_time": "2019-08-20T18:43:17.507415Z"
    }
   },
   "outputs": [],
   "source": [
    "#Compute the average SVI score over the last 2 days, week, 2-week, month \n",
    "df['svi_mean_last_2days'] = sviovertime(x, df,2)\n",
    "df['svi_mean_last_week'] = sviovertime(x, df,7)\n",
    "df['svi_mean_last_2weeks'] = sviovertime(x, df,14)\n",
    "df['svi_mean_last_month'] = sviovertime(x, df,30)"
   ]
  },
  {
   "cell_type": "code",
   "execution_count": null,
   "metadata": {
    "ExecuteTime": {
     "end_time": "2019-08-20T18:43:20.097283Z",
     "start_time": "2019-08-20T18:43:20.079906Z"
    }
   },
   "outputs": [],
   "source": [
    "df.tail(1000)"
   ]
  },
  {
   "cell_type": "code",
   "execution_count": null,
   "metadata": {
    "ExecuteTime": {
     "end_time": "2019-08-20T18:43:28.064592Z",
     "start_time": "2019-08-20T18:43:28.061846Z"
    }
   },
   "outputs": [],
   "source": [
    "pkl.dump(df, open('/Users/ferdinandwohlenberg/Desktop/Projects/Project_4/Data/Google_trends/google_trends.pkl', 'wb'))"
   ]
  }
 ],
 "metadata": {
  "kernelspec": {
   "display_name": "Python 3",
   "language": "python",
   "name": "python3"
  },
  "language_info": {
   "codemirror_mode": {
    "name": "ipython",
    "version": 3
   },
   "file_extension": ".py",
   "mimetype": "text/x-python",
   "name": "python",
   "nbconvert_exporter": "python",
   "pygments_lexer": "ipython3",
   "version": "3.7.4"
  }
 },
 "nbformat": 4,
 "nbformat_minor": 2
}
