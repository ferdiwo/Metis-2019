{
 "cells": [
  {
   "cell_type": "code",
   "execution_count": null,
   "metadata": {
    "ExecuteTime": {
     "end_time": "2019-09-19T14:12:36.728612Z",
     "start_time": "2019-09-19T14:12:35.153092Z"
    }
   },
   "outputs": [],
   "source": [
    "import pandas as pd\n",
    "import numpy as np\n",
    "import matplotlib.pyplot as plt\n",
    "import pickle as pkl"
   ]
  },
  {
   "cell_type": "code",
   "execution_count": null,
   "metadata": {
    "ExecuteTime": {
     "end_time": "2019-09-19T14:12:37.273584Z",
     "start_time": "2019-09-19T14:12:37.152492Z"
    }
   },
   "outputs": [],
   "source": [
    "df = pd.read_csv('~/Desktop/Projects/Project_4/Data/gemini_BTCUSD_1hr.csv', skiprows = 1)"
   ]
  },
  {
   "cell_type": "code",
   "execution_count": null,
   "metadata": {
    "ExecuteTime": {
     "end_time": "2019-08-17T01:28:55.206395Z",
     "start_time": "2019-08-17T01:28:55.204104Z"
    }
   },
   "outputs": [],
   "source": [
    "def timestamp(df):\n",
    "    timestamp = pd.Timestamp(df)\n",
    "    return timestamp"
   ]
  },
  {
   "cell_type": "code",
   "execution_count": null,
   "metadata": {
    "ExecuteTime": {
     "end_time": "2019-08-17T01:28:55.492977Z",
     "start_time": "2019-08-17T01:28:55.405912Z"
    }
   },
   "outputs": [],
   "source": [
    "df['Date'] = np.vectorize(timestamp)(df['Date'])"
   ]
  },
  {
   "cell_type": "code",
   "execution_count": null,
   "metadata": {
    "ExecuteTime": {
     "end_time": "2019-08-17T01:28:55.570683Z",
     "start_time": "2019-08-17T01:28:55.566924Z"
    }
   },
   "outputs": [],
   "source": [
    "df_drop = df.drop(labels= ['Unix Timestamp', 'Symbol'], axis = 1)"
   ]
  },
  {
   "cell_type": "code",
   "execution_count": null,
   "metadata": {
    "ExecuteTime": {
     "end_time": "2019-08-17T01:28:55.903871Z",
     "start_time": "2019-08-17T01:28:55.901347Z"
    }
   },
   "outputs": [],
   "source": [
    "def shorten(df):\n",
    "    timestamp1 = pd.Timestamp('2019-05-01 00:00:00')\n",
    "    df = df[df.Date < timestamp1]\n",
    "    return df"
   ]
  },
  {
   "cell_type": "code",
   "execution_count": null,
   "metadata": {
    "ExecuteTime": {
     "end_time": "2019-08-17T01:28:56.089165Z",
     "start_time": "2019-08-17T01:28:56.081028Z"
    }
   },
   "outputs": [],
   "source": [
    "df_drop.head()"
   ]
  },
  {
   "cell_type": "code",
   "execution_count": null,
   "metadata": {
    "ExecuteTime": {
     "end_time": "2019-08-17T01:28:56.258124Z",
     "start_time": "2019-08-17T01:28:56.254249Z"
    }
   },
   "outputs": [],
   "source": [
    "df_drop = shorten(df_drop)"
   ]
  },
  {
   "cell_type": "code",
   "execution_count": null,
   "metadata": {
    "ExecuteTime": {
     "end_time": "2019-08-17T01:28:56.559559Z",
     "start_time": "2019-08-17T01:28:56.417256Z"
    }
   },
   "outputs": [],
   "source": [
    "#Add difference between high and low to capture the variance over the day\n",
    "df_drop['daily_variance'] = df_drop['High'] - df_drop['Low']"
   ]
  },
  {
   "cell_type": "code",
   "execution_count": null,
   "metadata": {
    "ExecuteTime": {
     "end_time": "2019-08-17T01:28:56.596534Z",
     "start_time": "2019-08-17T01:28:56.592926Z"
    }
   },
   "outputs": [],
   "source": [
    "df_drop['daily difference'] = df_drop['Open']-df_drop['Close']"
   ]
  },
  {
   "cell_type": "code",
   "execution_count": null,
   "metadata": {
    "ExecuteTime": {
     "end_time": "2019-08-17T01:28:56.789361Z",
     "start_time": "2019-08-17T01:28:56.785945Z"
    }
   },
   "outputs": [],
   "source": [
    "df_drop['Trading_Volume'] = df_drop['Close']*df_drop['Volume']"
   ]
  },
  {
   "cell_type": "code",
   "execution_count": null,
   "metadata": {
    "ExecuteTime": {
     "end_time": "2019-08-17T01:28:56.982693Z",
     "start_time": "2019-08-17T01:28:56.972631Z"
    }
   },
   "outputs": [],
   "source": [
    "df_drop.head()"
   ]
  },
  {
   "cell_type": "code",
   "execution_count": null,
   "metadata": {
    "ExecuteTime": {
     "end_time": "2019-08-17T01:55:12.743533Z",
     "start_time": "2019-08-17T01:55:12.738588Z"
    }
   },
   "outputs": [],
   "source": [
    "def priceovertime(x, df, days, ago = True):\n",
    "    price = []\n",
    "    length = len(x)\n",
    "    count = 0\n",
    "    hours = int(days*24)\n",
    "    for index, c in enumerate(x):\n",
    "        if ago:\n",
    "            difference = c - df['Close'].iloc[index+hours]\n",
    "        else:\n",
    "            difference = df['Close'].iloc[index+hours] - c\n",
    "        price.append(difference)\n",
    "        count+=1\n",
    "        if count == (length-hours):\n",
    "            if ago:\n",
    "                for i in range(hours):\n",
    "                    price.append(0)\n",
    "            else:\n",
    "                for i in range(hours):\n",
    "                    price.insert(0, 0)\n",
    "            break\n",
    "    return price"
   ]
  },
  {
   "cell_type": "code",
   "execution_count": null,
   "metadata": {
    "ExecuteTime": {
     "end_time": "2019-08-17T01:55:35.012953Z",
     "start_time": "2019-08-17T01:55:31.983525Z"
    }
   },
   "outputs": [],
   "source": [
    "#Add price differences over time\n",
    "df_drop['price_1month'] = priceovertime(x,df_drop,30)\n",
    "df_drop['price_2weeks_ago'] = priceovertime(x,df_drop,14)\n",
    "df_drop['price_1week_ago'] = priceovertime(x,df_drop,7)\n",
    "df_drop['price_2days_ago'] = priceovertime(x,df_drop,2)\n",
    "df_drop['price_1day_ago'] = priceovertime(x,df_drop,1)\n",
    "df_drop['price_1hour_ago'] = priceovertime(x,df_drop,1/24)\n",
    "df_drop['price_1month_ahead'] = priceovertime(x,df_drop,30,ago = False)\n",
    "df_drop['price_2weeks_ahead'] = priceovertime(x,df_drop,14,ago = False)\n",
    "df_drop['price_1week_ahead'] = priceovertime(x,df_drop,7,ago = False)\n",
    "df_drop['price_2days_ahead'] = priceovertime(x,df_drop,2,ago = False)\n",
    "df_drop['price_1day_ahead'] = priceovertime(x,df_drop,1, ago = False)\n",
    "df_drop['price_1hour_ahead'] = priceovertime(x,df_drop,1/24, ago = False)"
   ]
  },
  {
   "cell_type": "code",
   "execution_count": null,
   "metadata": {
    "ExecuteTime": {
     "end_time": "2019-08-17T01:55:35.033130Z",
     "start_time": "2019-08-17T01:55:35.014500Z"
    }
   },
   "outputs": [],
   "source": [
    "df_drop.head()"
   ]
  },
  {
   "cell_type": "code",
   "execution_count": null,
   "metadata": {
    "ExecuteTime": {
     "end_time": "2019-08-17T01:31:35.876125Z",
     "start_time": "2019-08-17T01:30:33.911877Z"
    }
   },
   "outputs": [],
   "source": [
    "#Plot Volume the monetary worth of bitcoins traded over the day\n",
    "plt.figure(figsize=(10,3))\n",
    "plt.bar(df_drop['Date'], df_drop['Trading_Volume'])"
   ]
  },
  {
   "cell_type": "code",
   "execution_count": null,
   "metadata": {
    "ExecuteTime": {
     "end_time": "2019-08-17T01:33:17.071791Z",
     "start_time": "2019-08-17T01:32:11.859182Z"
    }
   },
   "outputs": [],
   "source": [
    "#Plot Volume of bitcoins traded over the day\n",
    "plt.figure(figsize=(10,3))\n",
    "plt.bar(df_drop['Date'], df_drop['Volume'])"
   ]
  },
  {
   "cell_type": "markdown",
   "metadata": {},
   "source": [
    "Looking at the Graph a peak in 2017 can be observed, before th rallye to 20,000 USD began. Maybe it would have been possible to predict"
   ]
  },
  {
   "cell_type": "code",
   "execution_count": null,
   "metadata": {
    "ExecuteTime": {
     "end_time": "2019-08-17T02:22:52.321483Z",
     "start_time": "2019-08-17T02:22:52.295327Z"
    }
   },
   "outputs": [],
   "source": [
    "pkl.dump(df_drop,open('bitcoins.pkl', 'wb'))"
   ]
  },
  {
   "cell_type": "code",
   "execution_count": null,
   "metadata": {
    "ExecuteTime": {
     "end_time": "2019-08-17T01:58:45.094678Z",
     "start_time": "2019-08-17T01:56:34.357728Z"
    }
   },
   "outputs": [],
   "source": [
    "fig, axs = plt.subplots(2, 2, figsize= (25,10))\n",
    "axs[0, 0].bar(df_drop['Date'], df_drop['Volume'])\n",
    "axs[0, 0].set_title('Volume(BTC) traded over the day')\n",
    "axs[0, 1].bar(df_drop['Date'], df_drop['Trading_Volume'])\n",
    "axs[0, 1].set_title('Volume(USD) traded over the day')\n",
    "axs[1, 0].plot(df_drop['Date'], df_drop['Close'])\n",
    "axs[1, 0].set_title('Closing Price')\n",
    "axs[1, 1].plot(df_drop['Date'], df_drop['daily_variance'])\n",
    "axs[1, 1].set_title('Variance in Price over day')"
   ]
  },
  {
   "cell_type": "code",
   "execution_count": null,
   "metadata": {
    "ExecuteTime": {
     "end_time": "2019-08-17T02:22:42.623767Z",
     "start_time": "2019-08-17T02:22:42.424010Z"
    }
   },
   "outputs": [],
   "source": [
    "ls"
   ]
  }
 ],
 "metadata": {
  "kernelspec": {
   "display_name": "Python 3",
   "language": "python",
   "name": "python3"
  },
  "language_info": {
   "codemirror_mode": {
    "name": "ipython",
    "version": 3
   },
   "file_extension": ".py",
   "mimetype": "text/x-python",
   "name": "python",
   "nbconvert_exporter": "python",
   "pygments_lexer": "ipython3",
   "version": "3.7.4"
  }
 },
 "nbformat": 4,
 "nbformat_minor": 2
}
