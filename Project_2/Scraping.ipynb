{
 "cells": [
  {
   "cell_type": "code",
   "execution_count": null,
   "metadata": {
    "ExecuteTime": {
     "end_time": "2019-08-28T18:57:26.093089Z",
     "start_time": "2019-08-28T18:57:26.088890Z"
    }
   },
   "outputs": [],
   "source": [
    "from __future__ import print_function, division"
   ]
  },
  {
   "cell_type": "code",
   "execution_count": null,
   "metadata": {
    "ExecuteTime": {
     "end_time": "2019-08-28T18:57:29.486832Z",
     "start_time": "2019-08-28T18:57:27.447162Z"
    }
   },
   "outputs": [],
   "source": [
    "# if needed: pip install requests or conda install requests\n",
    "import requests\n",
    "import csv\n",
    "import pandas as pd\n",
    "from collections import defaultdict\n",
    "from bs4 import BeautifulSoup\n",
    "from selenium import webdriver\n",
    "from selenium.webdriver.common.keys import Keys\n",
    "import time\n",
    "\n",
    "import os\n",
    "chromedriver = \"/Applications/chromedriver\" # path to the chromedriver executable\n",
    "os.environ[\"webdriver.chrome.driver\"] = chromedriver\n",
    "\n",
    "requests.__path__"
   ]
  },
  {
   "cell_type": "code",
   "execution_count": null,
   "metadata": {},
   "outputs": [],
   "source": [
    "#Cars from 1990 to 2020\n",
    "url = 'https://www.cars.com/for-sale/searchresults.action/?dealerType=localOnly&page=1&perPage=100&rd=99999&searchSource=GN_BREADCRUMB&sort=relevance&stkTypId=28881&yrId=20136&yrId=20192&yrId=20137&yrId=20193&yrId=20138&yrId=20194&yrId=20139&yrId=20195&yrId=20140&yrId=20196&yrId=20141&yrId=20197&yrId=20142&yrId=20198&yrId=20143&yrId=20199&yrId=20144&yrId=20200&yrId=20145&yrId=20201&yrId=27381&yrId=34923&yrId=39723&yrId=47272&yrId=51683&yrId=56007&yrId=58487&yrId=30031936&yrId=35797618&yrId=36362520&yrId=36620293&zc=60606'\n",
    "response = requests.get(url)"
   ]
  },
  {
   "cell_type": "code",
   "execution_count": null,
   "metadata": {},
   "outputs": [],
   "source": [
    "response.status_code"
   ]
  },
  {
   "cell_type": "code",
   "execution_count": null,
   "metadata": {},
   "outputs": [],
   "source": [
    "page = response.text"
   ]
  },
  {
   "cell_type": "code",
   "execution_count": null,
   "metadata": {},
   "outputs": [],
   "source": [
    "soup = BeautifulSoup(page,'lxml')"
   ]
  },
  {
   "cell_type": "code",
   "execution_count": null,
   "metadata": {},
   "outputs": [],
   "source": [
    "soup.find('a')\n",
    "len(soup.find_all(class_ = \"listing-row__title\"))"
   ]
  },
  {
   "cell_type": "code",
   "execution_count": null,
   "metadata": {},
   "outputs": [],
   "source": [
    "#Create dictionary with Model, Year, and Link\n",
    "def scrape(pages,start, state):\n",
    "    cardict = defaultdict(str)\n",
    "    models = []\n",
    "    years = []\n",
    "    links = []\n",
    "    \n",
    "    for i in range(start,(start+pages)):\n",
    "        url = 'https://www.cars.com/for-sale/searchresults.action/?dealerType=localOnly&page='+str(i)+'&perPage=100&rd=200&searchSource=GN_BREADCRUMB&sort=relevance&stkTypId=28881&yrId=20136&yrId=20192&yrId=20137&yrId=20193&yrId=20138&yrId=20194&yrId=20139&yrId=20195&yrId=20140&yrId=20196&yrId=20141&yrId=20197&yrId=20142&yrId=20198&yrId=20143&yrId=20199&yrId=20144&yrId=20200&yrId=20145&yrId=20201&yrId=27381&yrId=34923&yrId=39723&yrId=47272&yrId=51683&yrId=56007&yrId=58487&yrId=30031936&yrId=35797618&yrId=36362520&yrId=36620293&zc='+state\n",
    "        response = requests.get(url) \n",
    "        soup = BeautifulSoup(response.text,'lxml')\n",
    "        for entry in soup.find_all(class_ = \"listing-row__title\"):\n",
    "            cartype = entry.text.strip()\n",
    "            space = cartype.index(' ')\n",
    "            models.append(cartype[space+1:])\n",
    "            years.append(cartype[:space])\n",
    "        for entry in soup.find_all(class_ = \"shop-srp-listings__listing-container\"):\n",
    "            links.append(entry.find('a')['href']) \n",
    "    cardict['Year'] = years\n",
    "    cardict['Model'] = models\n",
    "    cardict['Link'] = links \n",
    "    \n",
    "    return cardict\n",
    "    \n",
    "\n",
    "    "
   ]
  },
  {
   "cell_type": "code",
   "execution_count": null,
   "metadata": {},
   "outputs": [],
   "source": [
    "def scrape2(dict):\n",
    "    cardict = defaultdict(int)\n",
    "    specdict = defaultdict(str)\n",
    "    reviews = []\n",
    "    ratings = []\n",
    "    deal = []\n",
    "    hot_badge = []\n",
    "    fuel = []\n",
    "    exterior = []\n",
    "    interior = []\n",
    "    drivetrain = []\n",
    "    transmission = []\n",
    "    engine = []\n",
    "    mileage = []\n",
    "    state = []\n",
    "    zipcode = []\n",
    "    price = []\n",
    "    vin = []\n",
    "    count = 0\n",
    "    for link in dict['Link']:\n",
    "        count += 1\n",
    "        url = 'https://www.cars.com'+link\n",
    "        response = requests.get(url) \n",
    "        soup = BeautifulSoup(response.text,'lxml')\n",
    "        #Seller No. of Reviews & Seller Rating\n",
    "        reviews.append(getseller(soup)[0])\n",
    "        ratings.append(getseller(soup)[1])\n",
    "        #Get Deal Rating\n",
    "        deal.append(getdealrating(soup))\n",
    "        #Hot Deal Badge\n",
    "        hot_badge.append(hotdeal(soup))\n",
    "        #Get Location\n",
    "        state.append(getlocation(soup)[0])\n",
    "        zipcode.append(getlocation(soup)[1])\n",
    "        #Get Specs\n",
    "        categories = getfuel(soup)\n",
    "        columns = ['Fuel Type:', 'Exterior Color:', 'Interior Color:', 'Drivetrain:','Transmission:','Engine:', 'Mileage', 'VIN:']\n",
    "        fuel.append(categories['Fuel Type:'])\n",
    "        exterior.append(categories['Exterior Color:'])\n",
    "        interior.append(categories['Interior Color:'])\n",
    "        drivetrain.append(categories['Drivetrain:'])\n",
    "        transmission.append(categories['Transmission:'])\n",
    "        engine.append(categories['Engine:'])\n",
    "        mileage.append(categories['Mileage:'])\n",
    "        vin.append(categories['VIN:'])\n",
    "        #Get Price\n",
    "        price.append(getprice(soup))\n",
    "    \n",
    "                \n",
    "            \n",
    "    cardict['Price'] = price\n",
    "    cardict['Seller Reviews'] = reviews\n",
    "    cardict['Seller Rating'] = ratings\n",
    "    cardict['Deal'] = deal\n",
    "    cardict['Hot Badge'] = hot_badge\n",
    "    cardict['Fuel'] = fuel\n",
    "    cardict['Exterior Color'] = exterior\n",
    "    cardict['Interior Color'] = interior\n",
    "    cardict['Drivetrain'] = drivetrain\n",
    "    cardict['Transmission'] = transmission\n",
    "    cardict['Engine'] = engine\n",
    "    cardict['Mileage'] = mileage\n",
    "    cardict['Zipcode'] = zipcode\n",
    "    cardict['State'] = state\n",
    "    cardict['VIN'] = vin\n",
    "    return cardict\n",
    "    \n"
   ]
  },
  {
   "cell_type": "code",
   "execution_count": null,
   "metadata": {},
   "outputs": [],
   "source": [
    "#Get Seller Data\n",
    "def getseller(soup):\n",
    "    x = soup.find(class_= 'rating__link rating__link--has-reviews')\n",
    "    if x != None:\n",
    "        x_text = x.text\n",
    "        rating_end = x_text.index(')')\n",
    "        review_end = x_text.index(' ')\n",
    "        review = x.text[rating_end+1:review_end].strip()\n",
    "        rating = x.text[1:rating_end].strip()\n",
    "    else:\n",
    "        review = 'N/A'\n",
    "        rating = 'N/A'\n",
    "    return review, rating"
   ]
  },
  {
   "cell_type": "code",
   "execution_count": null,
   "metadata": {},
   "outputs": [],
   "source": [
    "def getdealrating(soup):\n",
    "    y = soup.find(class_ = 'cui-icon market-comparison-cta__vast-badge market-comparison-cta__vast-badge-great vehicle-info__market-comparison')\n",
    "    w = soup.find(class_ = 'page-section__row page-section__row--vehicle-badging')\n",
    "    if w!= None:\n",
    "        deal = w.find('span')\n",
    "        if deal != None: \n",
    "            if deal.text == 'Great Deal' or deal.text == 'Good Deal' or deal.text == 'Fair Price':\n",
    "                rate = deal.text\n",
    "            else:\n",
    "                rate = 'N/A'\n",
    "        else:\n",
    "            rate = 'N/A'\n",
    "    else:\n",
    "        rate = 'N/A'\n",
    "    return rate"
   ]
  },
  {
   "cell_type": "code",
   "execution_count": null,
   "metadata": {},
   "outputs": [],
   "source": [
    "def hotdeal(soup):\n",
    "    hot_badge = soup.find(class_ = 'hot-badge--label')\n",
    "    if hot_badge != None:\n",
    "        hot_badge = 'HOT'\n",
    "    else:\n",
    "        hot_badge = 'N/A'\n",
    "    return hot_badge"
   ]
  },
  {
   "cell_type": "code",
   "execution_count": null,
   "metadata": {},
   "outputs": [],
   "source": [
    "def getfuel(soup):\n",
    "    #fuel_type = soup.find_all(class_ = 'vdp-details-basics__item')\n",
    "    spec_dict = defaultdict(str)\n",
    "    specs_list = []\n",
    "    category_list = []\n",
    "    specs = [y.find_all('span') for y in soup.find_all(class_='vdp-details-basics__item')]\n",
    "    category = [y.find_all('strong') for y in soup.find_all(class_='vdp-details-basics__item')]\n",
    "    columns = ['Fuel Type:', 'Exterior Color:', 'Interior Color:', 'Drivetrain:','Transmission:','Engine:', 'Mileage:', 'VIN:']    \n",
    "    for index, i in enumerate(specs):\n",
    "        if (category[index][0].text) in columns:\n",
    "            columns.remove(category[index][0].text)\n",
    "            spec_dict[(category[index][0].text)] = (specs[index][0].text).strip()\n",
    "    if columns != []:\n",
    "        for column in columns:\n",
    "            spec_dict[column] = 'N/A'\n",
    "        \n",
    "    return spec_dict\n",
    "    \n"
   ]
  },
  {
   "cell_type": "code",
   "execution_count": null,
   "metadata": {},
   "outputs": [],
   "source": [
    "def getlocation(soup):\n",
    "    location = soup.find(class_ = 'get-directions-link seller-details-location__text')\n",
    "    if location != None:\n",
    "        location_text = location.text\n",
    "        state_index = location_text.index(',')\n",
    "        state_end = location_text.index(' ',state_index+2,)\n",
    "        state = location_text[state_index+1:state_end].strip()\n",
    "        zipcode = location_text[state_end:].strip()\n",
    "    else:\n",
    "        state = 'N/A'\n",
    "        zipcode = 'N/A'\n",
    "    return state, zipcode\n"
   ]
  },
  {
   "cell_type": "code",
   "execution_count": null,
   "metadata": {},
   "outputs": [],
   "source": [
    "def getprice(soup):\n",
    "    price = soup.find(class_ = 'vehicle-info__price-display vehicle-info__price-display--dealer cui-heading-2')\n",
    "    if price == None:\n",
    "        price_text = 'N/A'\n",
    "    else:\n",
    "        price_text = (price.text).strip()\n",
    "    return (price_text)\n",
    "    "
   ]
  },
  {
   "cell_type": "code",
   "execution_count": null,
   "metadata": {},
   "outputs": [],
   "source": [
    "#def getbody(i):\n",
    "    #vin = df['VIN']\n",
    "    #for i in vin:\n",
    "    #url = 'https://www.autodna.com/vin/'+str(i)\n",
    "    #driver = webdriver.Chrome(chromedriver)\n",
    "    #driver.get(url)\n",
    "    #time.sleep(10)\n",
    "    #soup = BeautifulSoup(driver.page_source, 'html.parser')\n",
    "    #response = requests.get(url)\n",
    "    #page = response.text\n",
    "    #soup = BeautifulSoup(page,'lxml')\n",
    "    #body_type = soup.find(class_ = 'p-value')\n",
    "    #soup.find('div', attrs=)\n",
    "    #print(soup)\n",
    "        \n",
    "#find_element_by_x_path(metric_1).click()\n",
    "\n",
    "#getbody('1GCRCREC2JZ314137')    \n",
    "        \n",
    "        \n",
    "        "
   ]
  },
  {
   "cell_type": "code",
   "execution_count": null,
   "metadata": {},
   "outputs": [],
   "source": [
    "columns1 = ['Year', 'Model', 'Link','Price','Seller Reviews','Seller Rating','Deal','Hot Badge','Fuel','Exterior Color','Interior Color','Drivetrain','Transmission','Engine','Mileage', 'Zipcode','State']\n",
    "#for column in columns1:\n",
    "    #print(len(cardict[column]))\n",
    "#df = pd.DataFrame(cardict, columns = columns1)"
   ]
  },
  {
   "cell_type": "code",
   "execution_count": null,
   "metadata": {},
   "outputs": [],
   "source": [
    "def writetocsv(pages, start, state):\n",
    "    cardict = scrape(pages, start, state)\n",
    "    cardict2 = scrape2(cardict)\n",
    "    cardict.update(cardict2)\n",
    "    columns1 = ['Year', 'Model', 'Link','Price','Seller Reviews','Seller Rating','Deal','Hot Badge','Fuel','Exterior Color','Interior Color','Drivetrain','Transmission','Engine','Mileage', 'Zipcode','State','VIN']\n",
    "    df = pd.DataFrame(cardict, columns = columns1 )\n",
    "    filename = 'cars'+str((start-1)*100)+'_'+str((start+pages-1)*100)+'_'+state\n",
    "    df.to_csv(path_or_buf = filename, index = False)"
   ]
  },
  {
   "cell_type": "code",
   "execution_count": null,
   "metadata": {},
   "outputs": [],
   "source": [
    "#''35801','99501','85001','72201','90001','80201','06101','19901','20001','33124','30301','96801','83254','60601','46201','52801','67201','41701','70112','04032','21201','02101','49036','55801','39530','63101','89501',\n",
    "list_states = ['35801','99501','85001','72201','90001','80201','06101','19901','20001','33124','30301','96801','83254','60601','46201','52801','67201','41701','70112','04032','21201','02101','49036','55801','39530','63101','89501','03217','07039','87500','10001','27565','44101','74101','97201','15201','02840','29020','37201','78701','84321','24517','98004','53201']\n",
    "for state in list_states:\n",
    "    writetocsv(15,16,state)\n",
    "    print(state)"
   ]
  }
 ],
 "metadata": {
  "kernelspec": {
   "display_name": "Python 3",
   "language": "python",
   "name": "python3"
  },
  "language_info": {
   "codemirror_mode": {
    "name": "ipython",
    "version": 3
   },
   "file_extension": ".py",
   "mimetype": "text/x-python",
   "name": "python",
   "nbconvert_exporter": "python",
   "pygments_lexer": "ipython3",
   "version": "3.7.4"
  }
 },
 "nbformat": 4,
 "nbformat_minor": 2
}
