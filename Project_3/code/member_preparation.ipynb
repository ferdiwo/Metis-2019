{
 "cells": [
  {
   "cell_type": "markdown",
   "metadata": {
    "ExecuteTime": {
     "end_time": "2019-08-07T18:26:23.694318Z",
     "start_time": "2019-08-07T18:26:23.691925Z"
    },
    "heading_collapsed": true
   },
   "source": [
    "### Importing Modules"
   ]
  },
  {
   "cell_type": "code",
   "execution_count": null,
   "metadata": {
    "ExecuteTime": {
     "end_time": "2019-08-04T18:39:45.325890Z",
     "start_time": "2019-08-04T18:39:45.321613Z"
    },
    "hidden": true
   },
   "outputs": [],
   "source": [
    "\"\"\"\n",
    "Importing modules\n",
    "\"\"\"\n",
    "import numpy as np\n",
    "from sklearn import preprocessing\n",
    "import datetime\n",
    "import re\n",
    "import math\n",
    "import random\n",
    "import pickle as pkl\n",
    "from IPython import get_ipython\n",
    "#get_ipython().run_line_magic('pylab inline', 'config InlineBackend.figure_formats = ['retina']'\n",
    "\n",
    "import pandas as pd\n",
    "import seaborn as sns\n",
    "import matplotlib.pyplot as plt\n",
    "#sns.set()\n",
    "\n",
    "from collections import defaultdict"
   ]
  },
  {
   "cell_type": "markdown",
   "metadata": {
    "ExecuteTime": {
     "end_time": "2019-08-04T16:12:49.804972Z",
     "start_time": "2019-08-04T16:12:49.802447Z"
    },
    "heading_collapsed": true
   },
   "source": [
    "### Reduce Memory Usage"
   ]
  },
  {
   "cell_type": "code",
   "execution_count": null,
   "metadata": {
    "ExecuteTime": {
     "end_time": "2019-08-04T18:39:48.244217Z",
     "start_time": "2019-08-04T18:39:48.227490Z"
    },
    "hidden": true
   },
   "outputs": [],
   "source": [
    "def reduce_mem_usage(props):\n",
    "    start_mem_usg = props.memory_usage().sum() / 1024**2 \n",
    "    print(\"Memory usage of properties dataframe is :\",start_mem_usg,\" MB\")\n",
    "    NAlist = [] # Keeps track of columns that have missing values filled in. \n",
    "    for col in props.columns:\n",
    "        if (props[col].dtype != object and props[col].dtype != 'datetime64[ns]'):  # Exclude strings\n",
    "            \n",
    "            # Print current column type\n",
    "            print(\"******************************\")\n",
    "            print(\"Column: \",col)\n",
    "            print(\"dtype before: \",props[col].dtype)\n",
    "            \n",
    "            # make variables for Int, max and min\n",
    "            IsInt = False\n",
    "            mx = props[col].max()\n",
    "            mn = props[col].min()\n",
    "            \n",
    "            # Integer does not support NA, therefore, NA needs to be filled\n",
    "            if not np.isfinite(props[col]).all(): \n",
    "                NAlist.append(col)\n",
    "                props[col].fillna(mn-1,inplace=True)  \n",
    "                   \n",
    "            # test if column can be converted to an integer\n",
    "            asint = props[col].fillna(0).astype(np.int64)\n",
    "            result = (props[col] - asint)\n",
    "            result = result.sum()\n",
    "            if result > -0.01 and result < 0.01:\n",
    "                IsInt = True\n",
    "\n",
    "            \n",
    "            # Make Integer/unsigned Integer datatypes\n",
    "            if IsInt:\n",
    "                if mn >= 0:\n",
    "                    if mx < 255:\n",
    "                        props[col] = props[col].astype(np.uint8)\n",
    "                    elif mx < 65535:\n",
    "                        props[col] = props[col].astype(np.uint16)\n",
    "                    elif mx < 4294967295:\n",
    "                        props[col] = props[col].astype(np.uint32)\n",
    "                    else:\n",
    "                        props[col] = props[col].astype(np.uint64)\n",
    "                else:\n",
    "                    if mn > np.iinfo(np.int8).min and mx < np.iinfo(np.int8).max:\n",
    "                        props[col] = props[col].astype(np.int8)\n",
    "                    elif mn > np.iinfo(np.int16).min and mx < np.iinfo(np.int16).max:\n",
    "                        props[col] = props[col].astype(np.int16)\n",
    "                    elif mn > np.iinfo(np.int32).min and mx < np.iinfo(np.int32).max:\n",
    "                        props[col] = props[col].astype(np.int32)\n",
    "                    elif mn > np.iinfo(np.int64).min and mx < np.iinfo(np.int64).max:\n",
    "                        props[col] = props[col].astype(np.int64)    \n",
    "            \n",
    "            # Make float datatypes 32 bit\n",
    "            else:\n",
    "                props[col] = props[col].astype(np.float32)\n",
    "            \n",
    "            # Print new column type\n",
    "            print(\"dtype after: \",props[col].dtype)\n",
    "            print(\"******************************\")\n",
    "    \n",
    "    # Print final result\n",
    "    print(\"___MEMORY USAGE AFTER COMPLETION:___\")\n",
    "    mem_usg = props.memory_usage().sum() / 1024**2 \n",
    "    print(\"Memory usage is: \",mem_usg,\" MB\")\n",
    "    print(\"This is \",100*mem_usg/start_mem_usg,\"% of the initial size\")\n",
    "    return props"
   ]
  },
  {
   "cell_type": "markdown",
   "metadata": {},
   "source": [
    "### Preparing Test Dataframe"
   ]
  },
  {
   "cell_type": "code",
   "execution_count": null,
   "metadata": {
    "ExecuteTime": {
     "end_time": "2019-08-04T19:03:48.617166Z",
     "start_time": "2019-08-04T19:03:48.565971Z"
    }
   },
   "outputs": [],
   "source": [
    "df_members = pd.read_csv('/home/ubuntu/Project_3/kkbox-music-recommendation-challenge/members.csv')"
   ]
  },
  {
   "cell_type": "code",
   "execution_count": null,
   "metadata": {
    "ExecuteTime": {
     "end_time": "2019-08-04T19:03:48.812274Z",
     "start_time": "2019-08-04T19:03:48.786100Z"
    }
   },
   "outputs": [],
   "source": [
    "df_members = reduce_mem_usage(df_members)"
   ]
  },
  {
   "cell_type": "code",
   "execution_count": null,
   "metadata": {
    "ExecuteTime": {
     "end_time": "2019-08-04T19:03:49.950882Z",
     "start_time": "2019-08-04T19:03:49.239114Z"
    }
   },
   "outputs": [],
   "source": [
    "\"\"\"\n",
    "Parameter df_members: Members dataframe\n",
    "Convert registration and expiration date to time Series.\n",
    "Add new column with duration of the users membership\n",
    "Convert 0's in 'bd' column (age) into the mean of people from the same area and same way of registration\n",
    "\n",
    "Returns: Members DataFrame\n",
    "\"\"\"\n",
    "df_members['Registration'] = pd.to_datetime(df_members['registration_init_time'], format = '%Y%m%d')\n",
    "df_members['Expiration Date'] = pd.to_datetime(df_members['expiration_date'], format = '%Y%m%d')\n",
    "df_members.drop(columns = ['registration_init_time','expiration_date'], inplace = True)\n",
    "\n",
    "df_members['gender'].replace(to_replace = np.NaN, value = -1, inplace = True)\n",
    "\n",
    "#Compute registered timeframe\n",
    "df_members['Registered Timeframe (days)'] = (df_members['Expiration Date'] - \\\n",
    "df_members['Registration']).apply(lambda x: x.days)\n",
    "timestamp = df_members['Registration'].sort_values(ascending = False).iloc[0]\n",
    "df_members['Registration_to_today'] = (pd.to_datetime(timestamp) -pd.to_datetime(df_members['Registration'])).apply(lambda x: x.days)\n",
    "df_members['Active Timeframe'] = df_members['Registered Timeframe (days)']\n",
    "df_members['Active Timeframe'] = df_members['Active Timeframe'][df_members['Registered Timeframe (days)'] < df_members['Registration_to_today']] = df_members['Registered Timeframe (days)']\n",
    "df_members = reduce_mem_usage(df_members)\n",
    "pkl.dump(df_members, open( \"members.pkl\", \"wb\" ))\n",
    "del df_members"
   ]
  },
  {
   "cell_type": "code",
   "execution_count": null,
   "metadata": {
    "ExecuteTime": {
     "end_time": "2019-08-04T19:04:40.774719Z",
     "start_time": "2019-08-04T19:04:21.276579Z"
    }
   },
   "outputs": [],
   "source": [
    "df_members = pkl.load(open(\"members.pkl\", \"rb\" ))\n",
    "df_train = pd.read_csv('/home/ubuntu/Project_3/kkbox-music-recommendation-challenge/train.csv')\n",
    "df_songs = pd.read_csv('/home/ubuntu/Project_3/kkbox-music-recommendation-challenge/songs.csv')"
   ]
  },
  {
   "cell_type": "code",
   "execution_count": null,
   "metadata": {
    "ExecuteTime": {
     "end_time": "2019-08-04T19:04:41.079261Z",
     "start_time": "2019-08-04T19:04:40.776704Z"
    }
   },
   "outputs": [],
   "source": [
    "#Reduce memory usage\n",
    "df_train = reduce_mem_usage(df_train)\n",
    "df_songs = reduce_mem_usage(df_songs)"
   ]
  },
  {
   "cell_type": "code",
   "execution_count": null,
   "metadata": {
    "ExecuteTime": {
     "end_time": "2019-08-04T19:16:14.217648Z",
     "start_time": "2019-08-04T19:04:41.081288Z"
    }
   },
   "outputs": [],
   "source": [
    "df_members = df_train[['msno', 'song_id']].merge(df_members, on = 'msno')\n",
    "del df_train\n",
    "df_members = df_members.merge(df_songs[['song_id', 'genre_ids']], on = 'song_id')\n",
    "del df_songs\n",
    "age_mean = df_members[df_members.bd != 0].groupby(['registered_via', 'genre_ids'])['bd'].mean().reset_index()\n",
    "age_dict = defaultdict(int)\n",
    "for (c,r,a) in zip(age_mean['registered_via'], age_mean['genre_ids'], \\\n",
    "age_mean['bd']):\n",
    "#age_dict[c,r] = a\n",
    "    mask = (df_members.registered_via == c)&(df_members.genre_ids == r)&(df_members.bd == 0)\n",
    "    index_list = (df_members[mask].index)\n",
    "for index in index_list:\n",
    "    df_members.loc[index,'bd'] = a\n",
    "pkl.dump(df_members, open( \"members.pkl\", \"wb\" ) )\n",
    "del df_members"
   ]
  },
  {
   "cell_type": "code",
   "execution_count": null,
   "metadata": {
    "ExecuteTime": {
     "end_time": "2019-08-04T19:18:05.152209Z",
     "start_time": "2019-08-04T19:18:03.072154Z"
    }
   },
   "outputs": [],
   "source": [
    "#df_members = pkl.load(open('members.pkl','rb'))\n",
    "df_members1 = reduce_mem_usage(df_members.drop(columns = 'Expiration Date'))\n",
    "#pkl.dump(df_members, open( \"members.pkl\", \"wb\" ) )"
   ]
  },
  {
   "cell_type": "code",
   "execution_count": null,
   "metadata": {
    "ExecuteTime": {
     "end_time": "2019-08-04T19:16:40.936647Z",
     "start_time": "2019-08-04T19:16:40.895948Z"
    }
   },
   "outputs": [],
   "source": [
    "df_members"
   ]
  },
  {
   "cell_type": "code",
   "execution_count": null,
   "metadata": {},
   "outputs": [],
   "source": [
    "#Take out song id, isrc"
   ]
  },
  {
   "cell_type": "code",
   "execution_count": null,
   "metadata": {
    "ExecuteTime": {
     "end_time": "2019-08-04T17:27:27.617795Z",
     "start_time": "2019-08-04T17:27:15.252805Z"
    }
   },
   "outputs": [],
   "source": [
    "#Label encoding for msno and song_id\n",
    "#df_members = pkl.load(open('members.pkl','rb'))\n",
    "\n",
    "#le = preprocessing.LabelEncoder()\n",
    "#le.fit(df_members['msno'])\n",
    "#df_members['msno']=le.transform(df_members['msno'])\n",
    "\n",
    "#le = preprocessing.LabelEncoder()\n",
    "#le.fit(df_members['song_id'])\n",
    "#df_members['song_id'] = le.transform(df_members['song_id'])\n",
    "\n",
    "#df_members = reduce_mem_usage(df_members)\n",
    "#pkl.dump(df_members, open( \"members.pkl\", \"wb\" ) )"
   ]
  },
  {
   "cell_type": "code",
   "execution_count": null,
   "metadata": {
    "ExecuteTime": {
     "end_time": "2019-08-04T17:30:03.222969Z",
     "start_time": "2019-08-04T17:28:50.072732Z"
    }
   },
   "outputs": [],
   "source": [
    "#Computing the time the user has been active in the music streaming service\n",
    "\n",
    "df_members = df_members[['msno', 'song_id','Registration', 'Registered Timeframe (days)']]\n",
    "timestamp = df_members['Registration'].sort_values(ascending = False).iloc[0]\n",
    "df_members['Registration_to_today'] = (pd.to_datetime(timestamp) -pd.to_datetime(df_members['Registration'])).apply(lambda x: x.days)\n",
    "df_members['Active Timeframe'] = df_members['Registered Timeframe (days)']\n",
    "df_members['Active Timeframe'] = df_members['Active Timeframe'][df_members['Registered Timeframe (days)'] < df_members['Registration_to_today']] = df_members['Registered Timeframe (days)']\n",
    "df_members = reduce_mem_usage(df_members)\n",
    "with open('msno_active_timeframe_eda.pkl',\"wb\")as file:\n",
    "    pkl.dump(df_members[['msno', 'song_id','Registration', 'Registration_to_today', 'Active Timeframe']],file)"
   ]
  },
  {
   "cell_type": "code",
   "execution_count": null,
   "metadata": {
    "ExecuteTime": {
     "end_time": "2019-08-04T17:05:24.404856Z",
     "start_time": "2019-08-04T17:04:52.619672Z"
    }
   },
   "outputs": [],
   "source": [
    "df_members = pkl.load(open(\"members.pkl\", \"rb\" ))\n",
    "df_members1 = df_members[['msno', 'song_id']]\n",
    "df_members1.to_csv(\"members_msno\")\n",
    "del df_members, df_members1"
   ]
  },
  {
   "cell_type": "code",
   "execution_count": null,
   "metadata": {
    "ExecuteTime": {
     "start_time": "2019-08-04T17:40:04.479Z"
    }
   },
   "outputs": [],
   "source": [
    "\"\"\"\n",
    "Add timestamp to each index\n",
    "\"\"\"\n",
    "df_members = pkl.load(open( \"msno_active_timeframe_eda.pkl\", \"rb\" ))\n",
    "df_members['Timestamp'] = df_members.Registration\n",
    "df_members['days_between_songs']=round((df_membbers['Active Timeframe']/df_members.groupby(['msno'])['msno'].transform('count')),0)\n",
    "print('Days between songs have been added')\n",
    "count1 = 0\n",
    "for index in df_members.index:\n",
    "    count = len(df_members.iloc[:index+1][df_members.msno == df_members.msno.iloc[index]])-1\n",
    "    df_members['Timestamp'].iloc[index] = pd.to_datetime(df_members['Registration'].iloc[index])+ datetime.timedelta(df_members['days_between_songs'].iloc[index]*count)\n",
    "with open('msno_timestamp.pkl',\"wb\")as file:\n",
    "    pkl.dump(df_members[['msno', 'song_id', 'Timestamp']],file) "
   ]
  }
 ],
 "metadata": {
  "kernelspec": {
   "display_name": "Python 3",
   "language": "python",
   "name": "python3"
  },
  "language_info": {
   "codemirror_mode": {
    "name": "ipython",
    "version": 3
   },
   "file_extension": ".py",
   "mimetype": "text/x-python",
   "name": "python",
   "nbconvert_exporter": "python",
   "pygments_lexer": "ipython3",
   "version": "3.7.4"
  }
 },
 "nbformat": 4,
 "nbformat_minor": 2
}
