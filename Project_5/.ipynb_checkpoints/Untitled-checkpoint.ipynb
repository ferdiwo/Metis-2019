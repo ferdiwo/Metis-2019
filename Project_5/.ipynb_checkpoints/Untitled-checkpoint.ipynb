{
 "cells": [
  {
   "cell_type": "code",
   "execution_count": 1,
   "metadata": {
    "ExecuteTime": {
     "end_time": "2019-08-29T19:37:48.684108Z",
     "start_time": "2019-08-29T19:37:48.681361Z"
    }
   },
   "outputs": [],
   "source": [
    "from __future__ import print_function, division"
   ]
  },
  {
   "cell_type": "code",
   "execution_count": 2,
   "metadata": {
    "ExecuteTime": {
     "end_time": "2019-08-29T19:37:57.308555Z",
     "start_time": "2019-08-29T19:37:54.969689Z"
    }
   },
   "outputs": [
    {
     "data": {
      "text/plain": [
       "['/anaconda3/lib/python3.7/site-packages/requests']"
      ]
     },
     "execution_count": 2,
     "metadata": {},
     "output_type": "execute_result"
    }
   ],
   "source": [
    "import requests\n",
    "import csv\n",
    "import pandas as pd\n",
    "from collections import defaultdict\n",
    "from bs4 import BeautifulSoup\n",
    "import time\n",
    "import re\n",
    "import numpy as np\n",
    "from collections import defaultdict\n",
    "\n",
    "from selenium import webdriver\n",
    "from selenium.webdriver.common.keys import Keys\n",
    "import time\n",
    "\n",
    "import os\n",
    "chromedriver = \"/Applications/chromedriver\" # path to the chromedriver executable\n",
    "os.environ[\"webdriver.chrome.driver\"] = chromedriver\n",
    "\n",
    "requests.__path__"
   ]
  },
  {
   "cell_type": "code",
   "execution_count": 23,
   "metadata": {
    "ExecuteTime": {
     "end_time": "2019-08-29T19:53:31.826972Z",
     "start_time": "2019-08-29T19:53:19.187607Z"
    }
   },
   "outputs": [],
   "source": [
    "url = 'https://www.ted.com/talks/leana_wen_what_your_doctor_won_t_disclose/discussion'\n",
    "driver = webdriver.Chrome(chromedriver)\n",
    "driver.get(url)\n",
    "soup = BeautifulSoup(driver.page_source,'lxml')"
   ]
  },
  {
   "cell_type": "code",
   "execution_count": 24,
   "metadata": {
    "ExecuteTime": {
     "end_time": "2019-08-29T19:53:32.339888Z",
     "start_time": "2019-08-29T19:53:32.316299Z"
    }
   },
   "outputs": [],
   "source": [
    "def gettranscript(links):\n",
    "    d_transcript = defaultdict[str]\n",
    "    driver = webdriver.Chrome(chromedriver)\n",
    "    for link in links:\n",
    "        try:\n",
    "            url = 'https://www.ted.com/talks/leana_wen_what_your_doctor_won_t_disclose/transcript'\n",
    "            driver.get(url)\n",
    "            soup = BeautifulSoup(driver.page_source,'lxml')   \n",
    "            transcript = ''\n",
    "            for i in soup.find_all('a', class_ ='t-d:n hover/bg:gray-l.5' ):\n",
    "                text1 = i.text.replace('\\n', '')\n",
    "                transcript = transcript + text1\n",
    "            d_transcript[link] = transcript\n",
    "        except:\n",
    "    return d_transcript"
   ]
  },
  {
   "cell_type": "code",
   "execution_count": 40,
   "metadata": {
    "ExecuteTime": {
     "end_time": "2019-08-29T19:57:42.434158Z",
     "start_time": "2019-08-29T19:57:42.392525Z"
    }
   },
   "outputs": [
    {
     "name": "stdout",
     "output_type": "stream",
     "text": [
      "<div class=\"comment__body hyphens\">\n",
      "<p>\n",
      "        What happened to this voluntary disclosure campaign and website?  It appears to have been wiped off the web in 2015–except for an opaque link on the Ted talk to support the idea of transparency.  Seems extremely strange to see no article anywhere that references its shutdown.  What the heck happened?  And how could the scrubbing of references be so thorough?\n",
      "        \n",
      "    </p>\n",
      "</div>\n",
      "<div class=\"comment__body hyphens\">\n",
      "<p>\n",
      "        Dr. Leana Wen eloquently addresses the fear epidemic and the importance of transparency within the healthcare system, which is a harbinger of much contention within the healthcare field. This issue is tied to the ethical principle of beneficence. Beneficence is an ethical component that requires the physician to act to the benefit of his or her patient. When it comes to medical records, medical errors and financial disclosure as well as informed consent, transparency is important in order to fulfill the principle of beneficence. In medical school, students learn the importance of transparency and how it can improve outcomes and reduce instances of malpractice, but in clinical practice, many physicians are afraid of disclosing information that does not relate to beneficence such as core values and political affiliation to their patients. Disclosing this information goes beyond the subjective standard of disclosure. Subjective standard of disclosure is taking the patient’s core beliefs into consideration and disclosing medical information that is relatable to the patient.\n",
      "        \n",
      "    </p>\n",
      "</div>\n",
      "<div class=\"comment__body hyphens\">\n",
      "<p>\n",
      "        While I commend Dr. Wen’s bold call to action to be transparent with patients, especially when it comes to medical records, medical errors and financial disclosure, she does not fully address all aspects of disclosing more personal information such as political affiliation and core values with patients. As stated in the talk, many physicians are fearful to disclose personal information, but there really was no emphasis on the root of said fear within the healthcare system. In medical school, student doctors learn about the importance of professionalism with our future patients, and it seems almost paradoxical to discussing topics such as personal values and political affiliation with patients.\n",
      "        \n",
      "    </p>\n",
      "</div>\n",
      "<div class=\"comment__body hyphens\">\n",
      "<p>\n",
      "        To be professional, students are taught to put personal bias aside and do what is right for the patient (beneficence). Determining the right decision for each specific patient depends strongly on deep trusting relationships with patients. Building close relationships with a patient should not simply depend on personal beliefs and political affiliations. For example, if a woman is seeking an abortion and looks for an OB/GYN that consider themselves liberal but in reality, that physician, while liberal, may have certain religious beliefs and refuses to perform abortions. Physicians should not be asked to put themselves in a defining box. Humans should not strictly be defined by their political affiliation or even personal values, not when it comes to caring for another human. This would go against the principle of beneficence. By having this information disclosed to patients within a twenty-minute clinic visit, while transparent, can lead to false assumptions and preconceived bias which would still be unconducive to building trust. While it is optimal to have your physician share the same world view as you, it is not necessary for building a trusting relationship with your physician. Having a physician that is open-minded, compassionate, and human is. It is these qualities of a physician and patient that are necessary in order to build the kind of trusting doctor-patient relationship that Dr. Wen raves about.\n",
      "        \n",
      "    </p>\n",
      "</div>\n",
      "<div class=\"comment__body hyphens\">\n",
      "<p>\n",
      "        I can not guarantee that i will meet the best doctor every time.If i know he or she is not outstanding  \n",
      "        <br/>\n",
      "        i will worried.\n",
      "        \n",
      "    </p>\n",
      "</div>\n",
      "<div class=\"comment__body hyphens\">\n",
      "<p>\n",
      "        I think this is a great topic of discussion and something that should be brought to attention more frequently. Having trust in your doctor is something every patient should have. Trust is an integral part of medicine; patients have to trust their doctors to take care of them, and doctors have to trust their patients to follow the care plan they set up. When patients are able to trust to their doctors, they feel more comfortably that the doctor is not out to gain money from out of the patients pockets. Its proven that in urban cities that when the doctor is of the same minority, there is a higher level of health quality in the patient. This can be related to the level of similarity in previous experiences, so the doctor is more pron to relate to the patient and grow a sense of care for them. This though does not dismiss the fact that doctors of different minority patients are not able to give the patients that same care. It just shows that the doctor is able to better open up to a patient of the same race class. That being said, I and others can agree that we would love for doctors to open up more so that we can be able to want to come into the doctor for check ups and get prescribed to medicine rather than use home remedies because we feel like the doctor is just trying to promote a new drug company.\n",
      "        \n",
      "    </p>\n",
      "</div>\n",
      "<div class=\"comment__body hyphens\">\n",
      "<p>\n",
      "        Transparency at the place of treatment is necessary to end the corruption behind closed doors. The dentists and doctors on probation is climbing, the number of patients being harmed is growing and the legislation is protecting interests that are profiting solely by the harmed victim and disregarding the available priority of patient safety measures. The consumer of dental/medical services deserve to have the information vitally important to them when investing in procedures, some of which are permanent and irreversible. The fact remains that dentists and doctors are practicing and licensed on conditional licenses due to a harmful pattern or conduct which imposes risk on the unsuspecting and purposely uninformed patient. The licensing boards interest is to keep the dentist or doctor licensed but the history of dentists/doctors violating the conditions of their probation proves licensing boards fail to prevent harmful patterns from repeating. The bottom line, the consumer of dental/medical services risks their own physical and financial strength investing in dental/medical services without the priority of patient safety measures in place. The priority in healthcare today is the crafted reputation of the licensee dentist or doctor, after the fact measures and the agencies that keep the consumer of dental/medical services uninformed and confused. After the fact, victims have little to no rightful retribution or proper restitution to address the losses, pain and suffering the industry flagrantly disregards.\n",
      "        \n",
      "    </p>\n",
      "</div>\n",
      "<div class=\"comment__body hyphens\">\n",
      "<p>\n",
      "        Beneficence means 'do good', and if doctors are prescribing drugs because they get paid to, and because their patients need them, they are going against the very health code they signed when they agreed to be a health professional. I believe that the principle of Beneficence  also goes into what you believe, and perform as a doctor. The Whos' My Doctor campaign is something that I believe id stand for. I would very much like to know how my doctor feels about LGBT people and their transitions, and I would also very much like to know what my physician feels about reproductive right and birth control, not only because I am a woman but because if I was ever in an uncomfortable position, I would hope my doctor has the same views as I do and would treat me as a person, no matter what decision I would make. I would hope that my doctor wouldn't dissuade me from making a decision that goes away from my religion or that my doctor wouldn't judge me for any decision I could make. I also, however understand the privacy clause in this, that doctors should also retain the right to not want to disclose everything about them. The clause around that could be that income based questions not be asked. I do believe that questions based on ethics and health should be discussed as a bias against certain health research or prescriptions or procedures, and I also believe that the trust between a doctor a patient should outweigh the fear of the potential losses of income.\n",
      "        \n",
      "    </p>\n",
      "</div>\n",
      "<div class=\"comment__body hyphens\">\n",
      "<p>\n",
      "        Sarah: I agree with you on the principle of Beneficence. Whatever action a physician takes should be with the intent of doing good to the patient. When doctors prescribe a certain medication to patients for their own personal financial benefit, particularly when they know it may not be the most effective medication for that patients’ situation, then they are breaching this principle of beneficence. Furthermore, this relates to the patient’s right to a full disclosure. Physicians have a duty to give full disclosure to a patient about that patients’ specific medical situation. For example, if a patient has a malignant tumor, it is the physician’s responsibility to disclose all the possible treatment options, as well as the expected benefits, likely consequences, and unknown risks of such treatments. This full disclosure allows the patient to make a well-informed decision. In the example previously mentioned, the physicians who prescribe a medication based on their own financial gain are not fully disclosing all the possible medication options. Furthermore, I agree with your statement that a physician should not have to disclose every minute detail about his or her personal life. However, I disagree that a physician should disclose their stance on certain ethical topics such as reproductive rights and birth control. My stance is that a physician has a duty to disclose anything that relates to their patient’s specific health and treatment. A physician’s position on reproductive rights will not affect that patient directly. For example, a physician that does not want to perform an abortion because of their ethical stance could refer the patient desiring an abortion to a physician who will perform the procedure. Having each physician post their ethical beliefs for everyone to see would only cause unnecessary political turmoil.\n",
      "        \n",
      "    </p>\n",
      "</div>\n",
      "<div class=\"comment__body hyphens\">\n",
      "<p>\n",
      "        Dr. Wen’s story of her physician back in China reminded me of my pediatrician. My old pediatrician was a little Filipino woman who loved to tell her patients stories about her family and life. She made every visit comfortable and did not really like to prescribe medications unless it was absolutely necessary. Watching this video made me think about my current physician and whether or not they are paid to prescribe certain things and the real motive behind what they are telling me. I feel that the campaign Dr. Wen created, Who’s My Doctor, is a vital asset in building and strengthening the bond between physicians and their patients. Being able to see your physician as if they were basically the same as you and knowing what pharmaceutical companies they are sponsored by helps to bring peace of mind. The backlash that Dr. Wen received from fellow physicians was very unsettling. It makes me think, as a patient, what is my doctor doing that he does not want me to know? It makes me question whether or not they entered the profession for the well being of their patients or for the money that they could make because of my suffering and illness(es). I would not want my doctor to only tell me about treatment options that benefit them, but instead treatment options that benefit me and treat the problem at hand in a more effective way. I understand why some physicians would not want to fully disclose the way that they earn their income based on biases that some patients may have, but shouldn’t the trust between patient and physician outweigh the potential loss of future patients?\n",
      "        \n",
      "    </p>\n",
      "</div>\n",
      "<div class=\"comment__body hyphens\">\n",
      "<p>\n",
      "        This is a very powerful video, especially coming from a doctor. Leana Wen has spoken of some very good points. Trust is a very important thing just like Wen has said. Without trust there will be so many problems between the doctor and the patients. Then comes the fear that Wen has spoken about. With doctors and patients being scared this would cause a gap. This gap could actually be a bad outcome and cause a lot of questions to rise up. Maybe these questions have already been risen. Then when Wen talks about incentives, it really grabs quite a bit of attention and raises more questions that Wen does discuss. There are so many unknowns about doctors and the reasoning behind the treatments. In some cases doctors could be taking advantage of a patient and that could be rather alarming, especially if it is not in the best interest of the patient. Any treatment should be the least invasive and most effective. Being transparent between doctors and patients would definitely help, but there are problems that lie within that idea. If there is anyway that we can change transparency it has to be more specific. It should be a priority to know all of the options that a patient has and why the doctor recommends a certain treatment or surgery. Trust is possible, but doctors must be willing to be honest and not disclose important information. Once the trust is established, doctors and patients are more likely to have a longer lasting bond that is pretty difficult to find during today's society. Being able to say that a doctor is transparent and open is going to get them more credibility which will benefit them in the long run. That is, unless they are doing surgeries for the money or something that is not necessarily right for the patient. Leana Wen did a very good job delivering her speech and setting up visual examples that made her argument very thought provoking. Her speech may cause more patients to speak up about their health, and that in turn may be a very good thing.\n",
      "        \n",
      "    </p>\n",
      "</div>\n",
      "<div class=\"comment__body hyphens\">\n",
      "<p>\n",
      "        Wow, this is a powerful video. Doctors need to open up and be themselves in order to make their patients feel comfortable. Doctor-patient relationships can help improve the care and treatment. All patients are different, but they all want to know the values of their doctor. If every doctor was an open book, patients might choose their doctors based on the values of the doctors. Money is a huge deal in this world, and this affects the healthcare in very large ways. Doctors make money in different ways by the different decisions they make. Doctors do not disclose a lot of their professional life to their patients, and they are holding back important information. Patients cannot trust these doctors, and I understand why. Dr. Wang shows us that trust and openness of doctors will improve the care of the patients and their families. Being transparent should be a necessity for all doctors. Establishing a doctor-patient relationship will improve healthcare, just as opening up to a new friend will grow your friendship. Great care is important to patients, and that is on the doctor to provide the best care possible despite convenience or how much money they will receive.\n",
      "        \n",
      "    </p>\n",
      "</div>\n",
      "<div class=\"comment__body hyphens\">\n",
      "<p>\n",
      "        Personally I agree with the movement Leana Wen has created. I believe having trust in your doctor really helps build a strong doctor-patient relationship and by actually getting to know some of the behind the white coat of your doctor can really develop a greater sense of trust. When patients go to see a doctor they believe they have their best interest at heart; not that the doctor is going to recommend a route of treatment that will just profit them and not necessarily benefit you or they have a contract with a certain drug company and push that drug on his/her patient to make a profit. Transparency as she discussed can create a strong sense of trust and being upfront and honest about risks and outcomes can also build trust, even though it may not be what the patient or patients family really wants to hear. I can totally agree with Dr. Wen statement on how lawyers and politicians disclosing information on personal beliefs and affiliations so why wouldn't doctors have to disclose. Especially since doctors are paid to treat individuals who are trusting their lives with. However, there are always situations that can raise concern for the amount of disclosure a doctor provides in the hope that it relieves them of some pain. This i do not totally agree with, I believe giving and understanding the full disclosure of the diagnosis is the right thing to do. In the end doctors are here to save lives and treat patients as its their job and having to disclose certain information to gain or add to patients trust untimely will help in the long run with the doctor-patient relationship. If this movement is not continued patients well-beings could be threatened.\n",
      "        \n",
      "    </p>\n",
      "</div>\n",
      "<div class=\"comment__body hyphens\">\n",
      "<p>\n",
      "</p>\n",
      "</div>\n"
     ]
    }
   ],
   "source": [
    "def getcomments(links):\n",
    "    d_comments = defaultdict[str]\n",
    "    driver = webdriver.Chrome(chromedriver)\n",
    "    for link in links:\n",
    "        try:\n",
    "            url = 'https://www.ted.com/talks/leana_wen_what_your_doctor_won_t_disclose/discussion'\n",
    "            driver.get(url)\n",
    "            soup = BeautifulSoup(driver.page_source,'lxml')   \n",
    "            comments = []\n",
    "            for comment in soup.find_all('div', class_= 'comment__body hyphens'):\n",
    "                comments.append(comment.text.strip())\n",
    "            comments.remove('')\n",
    "            d_comments[link] = comments\n",
    "        except:\n",
    "    return d_comments"
   ]
  },
  {
   "cell_type": "code",
   "execution_count": 41,
   "metadata": {
    "ExecuteTime": {
     "end_time": "2019-08-29T19:57:44.486023Z",
     "start_time": "2019-08-29T19:57:44.469032Z"
    }
   },
   "outputs": [
    {
     "data": {
      "text/plain": [
       "['What happened to this voluntary disclosure campaign and website?  It appears to have been wiped off the web in 2015–except for an opaque link on the Ted talk to support the idea of transparency.  Seems extremely strange to see no article anywhere that references its shutdown.  What the heck happened?  And how could the scrubbing of references be so thorough?',\n",
       " 'Dr. Leana Wen eloquently addresses the fear epidemic and the importance of transparency within the healthcare system, which is a harbinger of much contention within the healthcare field. This issue is tied to the ethical principle of beneficence. Beneficence is an ethical component that requires the physician to act to the benefit of his or her patient. When it comes to medical records, medical errors and financial disclosure as well as informed consent, transparency is important in order to fulfill the principle of beneficence. In medical school, students learn the importance of transparency and how it can improve outcomes and reduce instances of malpractice, but in clinical practice, many physicians are afraid of disclosing information that does not relate to beneficence such as core values and political affiliation to their patients. Disclosing this information goes beyond the subjective standard of disclosure. Subjective standard of disclosure is taking the patient’s core beliefs into consideration and disclosing medical information that is relatable to the patient.',\n",
       " 'While I commend Dr. Wen’s bold call to action to be transparent with patients, especially when it comes to medical records, medical errors and financial disclosure, she does not fully address all aspects of disclosing more personal information such as political affiliation and core values with patients. As stated in the talk, many physicians are fearful to disclose personal information, but there really was no emphasis on the root of said fear within the healthcare system. In medical school, student doctors learn about the importance of professionalism with our future patients, and it seems almost paradoxical to discussing topics such as personal values and political affiliation with patients.',\n",
       " 'To be professional, students are taught to put personal bias aside and do what is right for the patient (beneficence). Determining the right decision for each specific patient depends strongly on deep trusting relationships with patients. Building close relationships with a patient should not simply depend on personal beliefs and political affiliations. For example, if a woman is seeking an abortion and looks for an OB/GYN that consider themselves liberal but in reality, that physician, while liberal, may have certain religious beliefs and refuses to perform abortions. Physicians should not be asked to put themselves in a defining box. Humans should not strictly be defined by their political affiliation or even personal values, not when it comes to caring for another human. This would go against the principle of beneficence. By having this information disclosed to patients within a twenty-minute clinic visit, while transparent, can lead to false assumptions and preconceived bias which would still be unconducive to building trust. While it is optimal to have your physician share the same world view as you, it is not necessary for building a trusting relationship with your physician. Having a physician that is open-minded, compassionate, and human is. It is these qualities of a physician and patient that are necessary in order to build the kind of trusting doctor-patient relationship that Dr. Wen raves about.',\n",
       " 'I can not guarantee that i will meet the best doctor every time.If i know he or she is not outstanding  \\n        \\n        i will worried.',\n",
       " 'I think this is a great topic of discussion and something that should be brought to attention more frequently. Having trust in your doctor is something every patient should have. Trust is an integral part of medicine; patients have to trust their doctors to take care of them, and doctors have to trust their patients to follow the care plan they set up. When patients are able to trust to their doctors, they feel more comfortably that the doctor is not out to gain money from out of the patients pockets. Its proven that in urban cities that when the doctor is of the same minority, there is a higher level of health quality in the patient. This can be related to the level of similarity in previous experiences, so the doctor is more pron to relate to the patient and grow a sense of care for them. This though does not dismiss the fact that doctors of different minority patients are not able to give the patients that same care. It just shows that the doctor is able to better open up to a patient of the same race class. That being said, I and others can agree that we would love for doctors to open up more so that we can be able to want to come into the doctor for check ups and get prescribed to medicine rather than use home remedies because we feel like the doctor is just trying to promote a new drug company.',\n",
       " 'Transparency at the place of treatment is necessary to end the corruption behind closed doors. The dentists and doctors on probation is climbing, the number of patients being harmed is growing and the legislation is protecting interests that are profiting solely by the harmed victim and disregarding the available priority of patient safety measures. The consumer of dental/medical services deserve to have the information vitally important to them when investing in procedures, some of which are permanent and irreversible. The fact remains that dentists and doctors are practicing and licensed on conditional licenses due to a harmful pattern or conduct which imposes risk on the unsuspecting and purposely uninformed patient. The licensing boards interest is to keep the dentist or doctor licensed but the history of dentists/doctors violating the conditions of their probation proves licensing boards fail to prevent harmful patterns from repeating. The bottom line, the consumer of dental/medical services risks their own physical and financial strength investing in dental/medical services without the priority of patient safety measures in place. The priority in healthcare today is the crafted reputation of the licensee dentist or doctor, after the fact measures and the agencies that keep the consumer of dental/medical services uninformed and confused. After the fact, victims have little to no rightful retribution or proper restitution to address the losses, pain and suffering the industry flagrantly disregards.',\n",
       " \"Beneficence means 'do good', and if doctors are prescribing drugs because they get paid to, and because their patients need them, they are going against the very health code they signed when they agreed to be a health professional. I believe that the principle of Beneficence  also goes into what you believe, and perform as a doctor. The Whos' My Doctor campaign is something that I believe id stand for. I would very much like to know how my doctor feels about LGBT people and their transitions, and I would also very much like to know what my physician feels about reproductive right and birth control, not only because I am a woman but because if I was ever in an uncomfortable position, I would hope my doctor has the same views as I do and would treat me as a person, no matter what decision I would make. I would hope that my doctor wouldn't dissuade me from making a decision that goes away from my religion or that my doctor wouldn't judge me for any decision I could make. I also, however understand the privacy clause in this, that doctors should also retain the right to not want to disclose everything about them. The clause around that could be that income based questions not be asked. I do believe that questions based on ethics and health should be discussed as a bias against certain health research or prescriptions or procedures, and I also believe that the trust between a doctor a patient should outweigh the fear of the potential losses of income.\",\n",
       " 'Sarah: I agree with you on the principle of Beneficence. Whatever action a physician takes should be with the intent of doing good to the patient. When doctors prescribe a certain medication to patients for their own personal financial benefit, particularly when they know it may not be the most effective medication for that patients’ situation, then they are breaching this principle of beneficence. Furthermore, this relates to the patient’s right to a full disclosure. Physicians have a duty to give full disclosure to a patient about that patients’ specific medical situation. For example, if a patient has a malignant tumor, it is the physician’s responsibility to disclose all the possible treatment options, as well as the expected benefits, likely consequences, and unknown risks of such treatments. This full disclosure allows the patient to make a well-informed decision. In the example previously mentioned, the physicians who prescribe a medication based on their own financial gain are not fully disclosing all the possible medication options. Furthermore, I agree with your statement that a physician should not have to disclose every minute detail about his or her personal life. However, I disagree that a physician should disclose their stance on certain ethical topics such as reproductive rights and birth control. My stance is that a physician has a duty to disclose anything that relates to their patient’s specific health and treatment. A physician’s position on reproductive rights will not affect that patient directly. For example, a physician that does not want to perform an abortion because of their ethical stance could refer the patient desiring an abortion to a physician who will perform the procedure. Having each physician post their ethical beliefs for everyone to see would only cause unnecessary political turmoil.',\n",
       " 'Dr. Wen’s story of her physician back in China reminded me of my pediatrician. My old pediatrician was a little Filipino woman who loved to tell her patients stories about her family and life. She made every visit comfortable and did not really like to prescribe medications unless it was absolutely necessary. Watching this video made me think about my current physician and whether or not they are paid to prescribe certain things and the real motive behind what they are telling me. I feel that the campaign Dr. Wen created, Who’s My Doctor, is a vital asset in building and strengthening the bond between physicians and their patients. Being able to see your physician as if they were basically the same as you and knowing what pharmaceutical companies they are sponsored by helps to bring peace of mind. The backlash that Dr. Wen received from fellow physicians was very unsettling. It makes me think, as a patient, what is my doctor doing that he does not want me to know? It makes me question whether or not they entered the profession for the well being of their patients or for the money that they could make because of my suffering and illness(es). I would not want my doctor to only tell me about treatment options that benefit them, but instead treatment options that benefit me and treat the problem at hand in a more effective way. I understand why some physicians would not want to fully disclose the way that they earn their income based on biases that some patients may have, but shouldn’t the trust between patient and physician outweigh the potential loss of future patients?',\n",
       " \"This is a very powerful video, especially coming from a doctor. Leana Wen has spoken of some very good points. Trust is a very important thing just like Wen has said. Without trust there will be so many problems between the doctor and the patients. Then comes the fear that Wen has spoken about. With doctors and patients being scared this would cause a gap. This gap could actually be a bad outcome and cause a lot of questions to rise up. Maybe these questions have already been risen. Then when Wen talks about incentives, it really grabs quite a bit of attention and raises more questions that Wen does discuss. There are so many unknowns about doctors and the reasoning behind the treatments. In some cases doctors could be taking advantage of a patient and that could be rather alarming, especially if it is not in the best interest of the patient. Any treatment should be the least invasive and most effective. Being transparent between doctors and patients would definitely help, but there are problems that lie within that idea. If there is anyway that we can change transparency it has to be more specific. It should be a priority to know all of the options that a patient has and why the doctor recommends a certain treatment or surgery. Trust is possible, but doctors must be willing to be honest and not disclose important information. Once the trust is established, doctors and patients are more likely to have a longer lasting bond that is pretty difficult to find during today's society. Being able to say that a doctor is transparent and open is going to get them more credibility which will benefit them in the long run. That is, unless they are doing surgeries for the money or something that is not necessarily right for the patient. Leana Wen did a very good job delivering her speech and setting up visual examples that made her argument very thought provoking. Her speech may cause more patients to speak up about their health, and that in turn may be a very good thing.\",\n",
       " 'Wow, this is a powerful video. Doctors need to open up and be themselves in order to make their patients feel comfortable. Doctor-patient relationships can help improve the care and treatment. All patients are different, but they all want to know the values of their doctor. If every doctor was an open book, patients might choose their doctors based on the values of the doctors. Money is a huge deal in this world, and this affects the healthcare in very large ways. Doctors make money in different ways by the different decisions they make. Doctors do not disclose a lot of their professional life to their patients, and they are holding back important information. Patients cannot trust these doctors, and I understand why. Dr. Wang shows us that trust and openness of doctors will improve the care of the patients and their families. Being transparent should be a necessity for all doctors. Establishing a doctor-patient relationship will improve healthcare, just as opening up to a new friend will grow your friendship. Great care is important to patients, and that is on the doctor to provide the best care possible despite convenience or how much money they will receive.',\n",
       " \"Personally I agree with the movement Leana Wen has created. I believe having trust in your doctor really helps build a strong doctor-patient relationship and by actually getting to know some of the behind the white coat of your doctor can really develop a greater sense of trust. When patients go to see a doctor they believe they have their best interest at heart; not that the doctor is going to recommend a route of treatment that will just profit them and not necessarily benefit you or they have a contract with a certain drug company and push that drug on his/her patient to make a profit. Transparency as she discussed can create a strong sense of trust and being upfront and honest about risks and outcomes can also build trust, even though it may not be what the patient or patients family really wants to hear. I can totally agree with Dr. Wen statement on how lawyers and politicians disclosing information on personal beliefs and affiliations so why wouldn't doctors have to disclose. Especially since doctors are paid to treat individuals who are trusting their lives with. However, there are always situations that can raise concern for the amount of disclosure a doctor provides in the hope that it relieves them of some pain. This i do not totally agree with, I believe giving and understanding the full disclosure of the diagnosis is the right thing to do. In the end doctors are here to save lives and treat patients as its their job and having to disclose certain information to gain or add to patients trust untimely will help in the long run with the doctor-patient relationship. If this movement is not continued patients well-beings could be threatened.\"]"
      ]
     },
     "execution_count": 41,
     "metadata": {},
     "output_type": "execute_result"
    }
   ],
   "source": [
    "comments"
   ]
  },
  {
   "cell_type": "code",
   "execution_count": null,
   "metadata": {},
   "outputs": [],
   "source": []
  }
 ],
 "metadata": {
  "kernelspec": {
   "display_name": "Python 3",
   "language": "python",
   "name": "python3"
  },
  "language_info": {
   "codemirror_mode": {
    "name": "ipython",
    "version": 3
   },
   "file_extension": ".py",
   "mimetype": "text/x-python",
   "name": "python",
   "nbconvert_exporter": "python",
   "pygments_lexer": "ipython3",
   "version": "3.7.3"
  }
 },
 "nbformat": 4,
 "nbformat_minor": 2
}
